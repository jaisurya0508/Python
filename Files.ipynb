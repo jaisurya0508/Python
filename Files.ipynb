{
 "cells": [
  {
   "cell_type": "markdown",
   "metadata": {},
   "source": [
    "# Files"
   ]
  },
  {
   "cell_type": "markdown",
   "metadata": {},
   "source": [
    "### Writing to a file"
   ]
  },
  {
   "cell_type": "code",
   "execution_count": 1,
   "metadata": {},
   "outputs": [],
   "source": [
    "with open(\"test.txt\", \"w\") as myfile:\n",
    "    myfile.write(\"My first file written from Python\\n\")\n",
    "    myfile.write(\"Hello, world!\\n\")"
   ]
  },
  {
   "cell_type": "code",
   "execution_count": 2,
   "metadata": {},
   "outputs": [],
   "source": [
    "with open(\"tets.txt\",'w')as m:\n",
    "    m.write(\"hi buddy\")"
   ]
  },
  {
   "cell_type": "code",
   "execution_count": 4,
   "metadata": {},
   "outputs": [
    {
     "name": "stdout",
     "output_type": "stream",
     "text": [
      "My first file written from Python\n",
      "Hello, world!\n",
      "\n"
     ]
    }
   ],
   "source": [
    "with open(\"test.txt\",'r')as f:\n",
    "    cont=f.read()\n",
    "print(cont)"
   ]
  },
  {
   "cell_type": "markdown",
   "metadata": {},
   "source": [
    "### Read the whole file"
   ]
  },
  {
   "cell_type": "code",
   "execution_count": 5,
   "metadata": {},
   "outputs": [
    {
     "name": "stdout",
     "output_type": "stream",
     "text": [
      "hi buddy\n"
     ]
    }
   ],
   "source": [
    "with open(\"tets.txt\") as f:\n",
    "    content = f.read()\n",
    "print(content)"
   ]
  },
  {
   "cell_type": "markdown",
   "metadata": {},
   "source": [
    "### Walk Through: Develop a function that displays a file"
   ]
  },
  {
   "cell_type": "code",
   "execution_count": 2,
   "metadata": {},
   "outputs": [
    {
     "name": "stdout",
     "output_type": "stream",
     "text": [
      "My first file written from Python\n",
      "Hello, world!\n",
      "\n"
     ]
    }
   ],
   "source": [
    "def show(infile):\n",
    "    with open(infile) as f:\n",
    "        content = f.read()\n",
    "    print(content)\n",
    "\n",
    "# call it\n",
    "show('test.txt')"
   ]
  },
  {
   "cell_type": "markdown",
   "metadata": {},
   "source": [
    "### Read a file line by line"
   ]
  },
  {
   "cell_type": "code",
   "execution_count": 6,
   "metadata": {},
   "outputs": [
    {
     "name": "stdout",
     "output_type": "stream",
     "text": [
      "My first file written from Python\n",
      "Hello, world!\n"
     ]
    }
   ],
   "source": [
    "with open(\"test.txt\", \"r\") as my_new_handle:\n",
    "    for line in my_new_handle:\n",
    "        print(line, end=\"\")"
   ]
  },
  {
   "cell_type": "markdown",
   "metadata": {},
   "source": [
    "### Convert each line to uppercase"
   ]
  },
  {
   "cell_type": "code",
   "execution_count": 9,
   "metadata": {},
   "outputs": [
    {
     "name": "stdout",
     "output_type": "stream",
     "text": [
      "MY FIRST FILE WRITTEN FROM PYTHON\n",
      "HELLO, WORLD!\n"
     ]
    }
   ],
   "source": [
    "with open(\"test.txt\", \"r\") as f:\n",
    "    for line in f:\n",
    "        line1 = line.upper()\n",
    "        print(line1, end=\"\")\n",
    "\n",
    "# NOTE: Remember we did not change the original file"
   ]
  },
  {
   "cell_type": "code",
   "execution_count": 4,
   "metadata": {},
   "outputs": [
    {
     "name": "stdout",
     "output_type": "stream",
     "text": [
      "BHC\n",
      "JSI\n"
     ]
    }
   ],
   "source": [
    "with open(\"tets.txt\",'r')as f:\n",
    "    con=f.read()\n",
    "    don=con.upper()\n",
    "    print(don)\n",
    "with open(\"fgh.txt\",'w')as d:\n",
    "    d.write(don)\n"
   ]
  },
  {
   "cell_type": "code",
   "execution_count": 5,
   "metadata": {},
   "outputs": [
    {
     "name": "stdout",
     "output_type": "stream",
     "text": [
      "BHC\n",
      "JSI\n"
     ]
    }
   ],
   "source": [
    "with open(\"fgh.txt\",'r')as g:\n",
    "    cv=g.read()\n",
    "print(cv)"
   ]
  },
  {
   "cell_type": "markdown",
   "metadata": {},
   "source": [
    "### Read all lines of a file and convert to uppercase"
   ]
  },
  {
   "cell_type": "code",
   "execution_count": 11,
   "metadata": {},
   "outputs": [
    {
     "name": "stdout",
     "output_type": "stream",
     "text": [
      "HI BUDDY\n"
     ]
    }
   ],
   "source": [
    "with open(\"tets.txt\", \"r\") as i:\n",
    "    all_lines = i.readlines()\n",
    "\n",
    "# sort all lines\n",
    "all_lines = [line.upper() for line in all_lines]\n",
    "\n",
    "# write them back to file\n",
    "with open(\"sortedtest.txt\", \"w\") as o:\n",
    "    for line in all_lines:\n",
    "        o.write(line)\n",
    "        \n",
    "#close it\n",
    "o.close()\n",
    "\n",
    "# Now show it\n",
    "show(\"sortedtest.txt\")"
   ]
  },
  {
   "cell_type": "markdown",
   "metadata": {},
   "source": [
    "### Appending additional text to a file"
   ]
  },
  {
   "cell_type": "code",
   "execution_count": 13,
   "metadata": {},
   "outputs": [
    {
     "name": "stdout",
     "output_type": "stream",
     "text": [
      "HI BUDDYThis is the appended line to an existing file\n",
      "This is the appended line to an existing file\n",
      "\n"
     ]
    }
   ],
   "source": [
    "with open(\"sortedtest.txt\", \"a\") as myfile:\n",
    "    myfile.write(\"This is the appended line to an existing file\\n\")\n",
    "    myfile.close()\n",
    "\n",
    "#now show it\n",
    "show(\"sortedtest.txt\")"
   ]
  },
  {
   "cell_type": "markdown",
   "metadata": {},
   "source": [
    "### Read and write the same file"
   ]
  },
  {
   "cell_type": "code",
   "execution_count": 17,
   "metadata": {},
   "outputs": [
    {
     "name": "stdout",
     "output_type": "stream",
     "text": [
      "bhc\n",
      "jsihi i am jayasurya from california\n",
      "\n"
     ]
    }
   ],
   "source": [
    "with open(\"tets.txt\", \"r+\") as myfile:\n",
    "    \n",
    "    contents = myfile.read()\n",
    "    print(contents)\n",
    "    \n",
    "    myfile.write(\"hi i am jayasurya from california\\n\")\n",
    "    myfile.close()\n",
    "\n"
   ]
  },
  {
   "cell_type": "code",
   "execution_count": 16,
   "metadata": {},
   "outputs": [
    {
     "name": "stdout",
     "output_type": "stream",
     "text": [
      "\n",
      "hi i am jayasurya  california\n",
      "\n"
     ]
    }
   ],
   "source": [
    "with open(\"tet.txt\", \"w+\") as myfile:\n",
    "    \n",
    "    \n",
    "    \n",
    "    myfile.write(\"hi i am jayasurya  california\\n\")\n",
    "   \n",
    "\n",
    "    contents = myfile.read()\n",
    "    print(contents)\n",
    "show(\"tet.txt\")"
   ]
  },
  {
   "cell_type": "markdown",
   "metadata": {},
   "source": [
    "### Walk Through"
   ]
  },
  {
   "cell_type": "markdown",
   "metadata": {},
   "source": [
    " #### Develop a function that copies the contents of a source file to target file excluding comment lines that starts with #"
   ]
  },
  {
   "cell_type": "code",
   "execution_count": 18,
   "metadata": {},
   "outputs": [
    {
     "name": "stdout",
     "output_type": "stream",
     "text": [
      "#This is a sample file\n",
      "Python is a fantastic language\n",
      "Never forget to learn\n",
      "\n"
     ]
    }
   ],
   "source": [
    "# Let us first write few lines to a file\n",
    "with open(\"sourcefile.txt\", \"w\") as myfile:\n",
    "    myfile.write(\"#This is a sample file\\n\")\n",
    "    myfile.write(\"Python is a fantastic language\\n\")\n",
    "    myfile.write(\"Never forget to learn\\n\")\n",
    "\n",
    "#show it\n",
    "show(\"sourcefile.txt\")"
   ]
  },
  {
   "cell_type": "code",
   "execution_count": 19,
   "metadata": {},
   "outputs": [
    {
     "name": "stdout",
     "output_type": "stream",
     "text": [
      "bhc\n",
      "jsi\n"
     ]
    }
   ],
   "source": [
    "with open(\"tets.txt\",'w')as f:\n",
    "    f.write(\"bhc\\n\")\n",
    "    f.write(\"jsi\")\n",
    "show('tets.txt')"
   ]
  },
  {
   "cell_type": "code",
   "execution_count": 21,
   "metadata": {},
   "outputs": [
    {
     "name": "stdout",
     "output_type": "stream",
     "text": [
      "bhc\n",
      "jsi\n"
     ]
    }
   ],
   "source": [
    "# function filtercopy to copy a file \n",
    "def filtercopy(oldfile, newfile):\n",
    "    with open(oldfile, \"r\") as infile, open(newfile, \"w\") as outfile:\n",
    "        for line in infile:\n",
    "            if not line.startswith('#'):\n",
    "                outfile.write(line)\n",
    "\n",
    "# call function\n",
    "filtercopy('tets.txt', 'test.txt')\n",
    "\n",
    "# show targetfile\n",
    "with open(\"test.txt\") as f:\n",
    "    content = f.read()\n",
    "print(content)"
   ]
  },
  {
   "cell_type": "markdown",
   "metadata": {},
   "source": [
    "## Read data from web"
   ]
  },
  {
   "cell_type": "code",
   "execution_count": 2,
   "metadata": {},
   "outputs": [
    {
     "name": "stdout",
     "output_type": "stream",
     "text": [
      "b'<!DOCTYPE html>\\n<!--[if lt IE 7]>      <html class=\"no-js lt-ie9 lt-ie8 lt-ie7\"> <![endif]-->\\n<!--[if IE 7]>         <html class=\"no-js lt-ie9 lt-ie8\"> <![endif]-->\\n<!--[if IE 8]>         <html class=\"no-js lt-ie9\"> <![endif]-->\\n<!--[if gt IE 8]><!--> <html class=\"no-js\"> <!--<![endif]-->\\n    <head>\\n        <meta charset=\"utf-8\">\\n        <meta http-equiv=\"X-UA-Compatible\" content=\"IE=edge,chrome=1\">\\n        <title>Bishop Heber College</title>\\n        <meta name=\"description\" content=\"\">\\n        <meta name=\"viewport\" content=\"width=device-width, initial-scale=1\">\\n\\n        <link rel=\"stylesheet\" href=\"css/bootstrap.css\">\\n        <link rel=\"stylesheet\" href=\"css/main.css\">\\n        <link href=\\'http://fonts.googleapis.com/css?family=Source+Sans+Pro:200,300,400,700,900,400italic\\' rel=\\'stylesheet\\' type=\\'text/css\\'>\\n\\t\\t\\n\\t\\t<link href=\"//maxcdn.bootstrapcdn.com/font-awesome/4.2.0/css/font-awesome.min.css\" rel=\"stylesheet\">\\n\\n\\n     <script src=\"https://ajax.googleapis.com/ajax/libs/jquery/1.11.0/jquery.min.js\"></script>\\n        <script>window.jQuery || document.write(\\'<script src=\"js/vendor/jquery-1.11.0.min.js\"><\\\\/script>\\')</script>\\n        <script src=\"js/bootstrap.min.js\"></script>\\n        <script src=\"js/plugins.js\"></script>\\n        <script src=\"js/main.js\"></script>\\n     \\n        <script src=\"js/vendor/modernizr-2.6.2.min.js\"></script>\\n\\t\\t<style>\\n\\t\\t.container {\\n    width: 100%;\\n    position: relative;\\n}\\n\\t\\t</style>\\n\\t\\t\\n\\t\\t<style>\\n\\t\\t.event .panel-body {\\n  background: #BBDEFB;\\n  border: 1px solid #448AFF;\\n  padding:0;\\n  margin:0;\\n  height:43px;\\n}\\n.event .panel-body > div {\\n  padding: 0 10px;\\n}\\n.event .panel-body .rsvp {\\n  border-left: none;\\n  padding: 0;\\n  text-align: center;\\n  position: relative;\\n  background: #64B5F6;\\n  color: white;\\n  height: 100%;\\n}\\n\\n.event .rsvp > div {\\n  font-size: 9px;\\n  position: absolute;\\n  bottom: 0;\\n  background: #42A5F5;\\n  width: 100%;\\n}\\n\\n.event .rsvp b {\\n  font-size: 1.25em;\\n  display: block;\\n  position:relative;\\n  top:17%;\\n  margin-bottom:5px;\\n}\\n.event .rsvp i:last-of-type{\\n    font-size:1.5em;\\n    margin-top:-23px;\\n}\\n\\n.event .rsvp span {\\n  cursor: pointer;\\n  padding: 0 5px;\\n  margin: 5px 0;\\n  width:45%;\\n}\\n.event .rsvp span:first-of-type{\\n  border-right: 1px solid white;\\n}\\n.event .rsvp span:hover{\\n  color: #1565C0;\\n}\\n\\n.event .info{\\n  font-size: 14px;\\n}\\n\\n.event .info > div, .event .info > ul{\\n  font-size: 12px;\\n}\\n\\n\\n\\n/* Overwrites */\\n.nav-tabs a {\\n  background: #90CAF9;\\n  color: white;\\n}\\n.info .nav-tabs li.active a {\\n  background-color: #448AFF;\\n  color: white;\\n}\\n.info .nav-tabs li:hover a, .info .nav-tabs li.active:hover a {\\n  background: #00BCD4;\\n  color: white;\\n}\\n.tab-content {\\n  background: white;\\n  border-radius: 0 10px;\\n  padding: 10px;\\n}\\n\\n/* Small devices (tablets, 768px and up) */\\n@media (min-width: 768px) { \\n    .event .panel-body {\\n        height:98px;\\n    }\\n    \\n    .event .rsvp {\\n        min-height:100%;\\n    }\\n    \\n    .event .rsvp i {\\n        font-size:2em;\\n        top:5%;\\n    }\\n    \\n    .event .panel-body .author {\\n      position: relative;\\n      color: #2196F3;\\n      padding:10px;\\n      height:100%;\\n    }\\n    .event .profile {\\n      position: relative;\\n      z-index: 0;\\n      border-left: 2px solid white;\\n      top: -5px;\\n      padding-left: 55px;\\n      height: 100%;\\n      left: 10%;\\n    }\\n    .event .profile strong {\\n      display: block;\\n      color: white;\\n      font:20px bold \\'Fredoka One\\', serif;\\n      -webkit-text-stroke-width: .6px;\\n      -webkit-text-stroke-color: #448AFF;\\n      margin-bottom: 5px;\\n    }\\n    .event .author .profile i {\\n      color:  #448AFF;\\n      padding-left: 0;\\n    }\\n    .event .profile .links {\\n      position: absolute;\\n      bottom: 0;\\n    }\\n    .event .profile article {\\n        padding:0 41px 0 0;\\n    }\\n    .event .author .profile i:hover{\\n      color:  #00BCD4;\\n    }\\n    .event .author .profile-image {\\n      position: absolute;\\n      background: white;\\n      padding: 3px;\\n      width: 30%;\\n      border-radius: 50%;\\n      border: 1px solid #CCC;\\n      box-sizing: content-box;\\n      z-index: 1;\\n      top:13px;\\n    }\\n    .event .author img {\\n      width: 100%;\\n      border-radius: 50%;\\n    }\\n}\\n\\n/* Medium devices (desktops, 992px and up) */\\n@media (min-width: 992px) { \\n    .event .profile {\\n      left: 17%;\\n    }\\n\\t\\t</style>\\n\\t\\t\\n\\t\\t\\n\\t\\t<style>\\n\\t\\t\\n\\t\\tpanel.with-nav-tabs .panel-heading{\\n    padding: 5px 5px 0 5px;\\n}\\n.panel.with-nav-tabs .nav-tabs{\\n\\tborder-bottom: none;\\n}\\n.panel.with-nav-tabs .nav-justified{\\n\\tmargin-bottom: -1px;\\n}\\n/********************************************************************/\\n/*** PANEL DEFAULT ***/\\n.with-nav-tabs.panel-default .nav-tabs > li > a,\\n.with-nav-tabs.panel-default .nav-tabs > li > a:hover,\\n.with-nav-tabs.panel-default .nav-tabs > li > a:focus {\\n    color: #777;\\n}\\n.with-nav-tabs.panel-default .nav-tabs > .open > a,\\n.with-nav-tabs.panel-default .nav-tabs > .open > a:hover,\\n.with-nav-tabs.panel-default .nav-tabs > .open > a:focus,\\n.with-nav-tabs.panel-default .nav-tabs > li > a:hover,\\n.with-nav-tabs.panel-default .nav-tabs > li > a:focus {\\n    color: #777;\\n\\tbackground-color: #ddd;\\n\\tborder-color: transparent;\\n}\\n.with-nav-tabs.panel-default .nav-tabs > li.active > a,\\n.with-nav-tabs.panel-default .nav-tabs > li.active > a:hover,\\n.with-nav-tabs.panel-default .nav-tabs > li.active > a:focus {\\n\\tcolor: #555;\\n\\tbackground-color: #fff;\\n\\tborder-color: #ddd;\\n\\tborder-bottom-color: transparent;\\n}\\n.with-nav-tabs.panel-default .nav-tabs > li.dropdown .dropdown-menu {\\n    background-color: #f5f5f5;\\n    border-color: #ddd;\\n}\\n.with-nav-tabs.panel-default .nav-tabs > li.dropdown .dropdown-menu > li > a {\\n    color: #777;   \\n}\\n.with-nav-tabs.panel-default .nav-tabs > li.dropdown .dropdown-menu > li > a:hover,\\n.with-nav-tabs.panel-default .nav-tabs > li.dropdown .dropdown-menu > li > a:focus {\\n    background-color: #ddd;\\n}\\n.with-nav-tabs.panel-default .nav-tabs > li.dropdown .dropdown-menu > .active > a,\\n.with-nav-tabs.panel-default .nav-tabs > li.dropdown .dropdown-menu > .active > a:hover,\\n.with-nav-tabs.panel-default .nav-tabs > li.dropdown .dropdown-menu > .active > a:focus {\\n    color: #fff;\\n    background-color: #555;\\n}\\n/********************************************************************/\\n/*** PANEL PRIMARY ***/\\n.with-nav-tabs.panel-primary .nav-tabs > li > a,\\n.with-nav-tabs.panel-primary .nav-tabs > li > a:hover,\\n.with-nav-tabs.panel-primary .nav-tabs > li > a:focus {\\n    color: #fff;\\n}\\n.with-nav-tabs.panel-primary .nav-tabs > .open > a,\\n.with-nav-tabs.panel-primary .nav-tabs > .open > a:hover,\\n.with-nav-tabs.panel-primary .nav-tabs > .open > a:focus,\\n.with-nav-tabs.panel-primary .nav-tabs > li > a:hover,\\n.with-nav-tabs.panel-primary .nav-tabs > li > a:focus {\\n\\tcolor: #fff;\\n\\tbackground-color: #3071a9;\\n\\tborder-color: transparent;\\n}\\n.with-nav-tabs.panel-primary .nav-tabs > li.active > a,\\n.with-nav-tabs.panel-primary .nav-tabs > li.active > a:hover,\\n.with-nav-tabs.panel-primary .nav-tabs > li.active > a:focus {\\n\\tcolor: #428bca;\\n\\tbackground-color: #fff;\\n\\tborder-color: #428bca;\\n\\tborder-bottom-color: transparent;\\n}\\n.with-nav-tabs.panel-primary .nav-tabs > li.dropdown .dropdown-menu {\\n    background-color: #428bca;\\n    border-color: #3071a9;\\n}\\n.with-nav-tabs.panel-primary .nav-tabs > li.dropdown .dropdown-menu > li > a {\\n    color: #fff;   \\n}\\n.with-nav-tabs.panel-primary .nav-tabs > li.dropdown .dropdown-menu > li > a:hover,\\n.with-nav-tabs.panel-primary .nav-tabs > li.dropdown .dropdown-menu > li > a:focus {\\n    background-color: #3071a9;\\n}\\n.with-nav-tabs.panel-primary .nav-tabs > li.dropdown .dropdown-menu > .active > a,\\n.with-nav-tabs.panel-primary .nav-tabs > li.dropdown .dropdown-menu > .active > a:hover,\\n.with-nav-tabs.panel-primary .nav-tabs > li.dropdown .dropdown-menu > .active > a:focus {\\n    background-color: #4a9fe9;\\n}\\n/********************************************************************/\\n/*** PANEL SUCCESS ***/\\n.with-nav-tabs.panel-success .nav-tabs > li > a,\\n.with-nav-tabs.panel-success .nav-tabs > li > a:hover,\\n.with-nav-tabs.panel-success .nav-tabs > li > a:focus {\\n\\tcolor: #3c763d;\\n}\\n.with-nav-tabs.panel-success .nav-tabs > .open > a,\\n.with-nav-tabs.panel-success .nav-tabs > .open > a:hover,\\n.with-nav-tabs.panel-success .nav-tabs > .open > a:focus,\\n.with-nav-tabs.panel-success .nav-tabs > li > a:hover,\\n.with-nav-tabs.panel-success .nav-tabs > li > a:focus {\\n\\tcolor: #3c763d;\\n\\tbackground-color: #d6e9c6;\\n\\tborder-color: transparent;\\n}\\n.with-nav-tabs.panel-success .nav-tabs > li.active > a,\\n.with-nav-tabs.panel-success .nav-tabs > li.active > a:hover,\\n.with-nav-tabs.panel-success .nav-tabs > li.active > a:focus {\\n\\tcolor: #3c763d;\\n\\tbackground-color: #fff;\\n\\tborder-color: #d6e9c6;\\n\\tborder-bottom-color: transparent;\\n}\\n.with-nav-tabs.panel-success .nav-tabs > li.dropdown .dropdown-menu {\\n    background-color: #dff0d8;\\n    border-color: #d6e9c6;\\n}\\n.with-nav-tabs.panel-success .nav-tabs > li.dropdown .dropdown-menu > li > a {\\n    color: #3c763d;   \\n}\\n.with-nav-tabs.panel-success .nav-tabs > li.dropdown .dropdown-menu > li > a:hover,\\n.with-nav-tabs.panel-success .nav-tabs > li.dropdown .dropdown-menu > li > a:focus {\\n    background-color: #d6e9c6;\\n}\\n.with-nav-tabs.panel-success .nav-tabs > li.dropdown .dropdown-menu > .active > a,\\n.with-nav-tabs.panel-success .nav-tabs > li.dropdown .dropdown-menu > .active > a:hover,\\n.with-nav-tabs.panel-success .nav-tabs > li.dropdown .dropdown-menu > .active > a:focus {\\n    color: #fff;\\n    background-color: #3c763d;\\n}\\n/********************************************************************/\\n/*** PANEL INFO ***/\\n.with-nav-tabs.panel-info .nav-tabs > li > a,\\n.with-nav-tabs.panel-info .nav-tabs > li > a:hover,\\n.with-nav-tabs.panel-info .nav-tabs > li > a:focus {\\n\\tcolor: #31708f;\\n}\\n.with-nav-tabs.panel-info .nav-tabs > .open > a,\\n.with-nav-tabs.panel-info .nav-tabs > .open > a:hover,\\n.with-nav-tabs.panel-info .nav-tabs > .open > a:focus,\\n.with-nav-tabs.panel-info .nav-tabs > li > a:hover,\\n.with-nav-tabs.panel-info .nav-tabs > li > a:focus {\\n\\tcolor: #31708f;\\n\\tbackground-color: #bce8f1;\\n\\tborder-color: transparent;\\n}\\n.with-nav-tabs.panel-info .nav-tabs > li.active > a,\\n.with-nav-tabs.panel-info .nav-tabs > li.active > a:hover,\\n.with-nav-tabs.panel-info .nav-tabs > li.active > a:focus {\\n\\tcolor: #31708f;\\n\\tbackground-color: #fff;\\n\\tborder-color: #bce8f1;\\n\\tborder-bottom-color: transparent;\\n}\\n.with-nav-tabs.panel-info .nav-tabs > li.dropdown .dropdown-menu {\\n    background-color: #d9edf7;\\n    border-color: #bce8f1;\\n}\\n.with-nav-tabs.panel-info .nav-tabs > li.dropdown .dropdown-menu > li > a {\\n    color: #31708f;   \\n}\\n.with-nav-tabs.panel-info .nav-tabs > li.dropdown .dropdown-menu > li > a:hover,\\n.with-nav-tabs.panel-info .nav-tabs > li.dropdown .dropdown-menu > li > a:focus {\\n    background-color: #bce8f1;\\n}\\n.with-nav-tabs.panel-info .nav-tabs > li.dropdown .dropdown-menu > .active > a,\\n.with-nav-tabs.panel-info .nav-tabs > li.dropdown .dropdown-menu > .active > a:hover,\\n.with-nav-tabs.panel-info .nav-tabs > li.dropdown .dropdown-menu > .active > a:focus {\\n    color: #fff;\\n    background-color: #31708f;\\n}\\n/********************************************************************/\\n/*** PANEL WARNING ***/\\n.with-nav-tabs.panel-warning .nav-tabs > li > a,\\n.with-nav-tabs.panel-warning .nav-tabs > li > a:hover,\\n.with-nav-tabs.panel-warning .nav-tabs > li > a:focus {\\n\\tcolor: #8a6d3b;\\n}\\n.with-nav-tabs.panel-warning .nav-tabs > .open > a,\\n.with-nav-tabs.panel-warning .nav-tabs > .open > a:hover,\\n.with-nav-tabs.panel-warning .nav-tabs > .open > a:focus,\\n.with-nav-tabs.panel-warning .nav-tabs > li > a:hover,\\n.with-nav-tabs.panel-warning .nav-tabs > li > a:focus {\\n\\tcolor: #8a6d3b;\\n\\tbackground-color: #faebcc;\\n\\tborder-color: transparent;\\n}\\n.with-nav-tabs.panel-warning .nav-tabs > li.active > a,\\n.with-nav-tabs.panel-warning .nav-tabs > li.active > a:hover,\\n.with-nav-tabs.panel-warning .nav-tabs > li.active > a:focus {\\n\\tcolor: #8a6d3b;\\n\\tbackground-color: #fff;\\n\\tborder-color: #faebcc;\\n\\tborder-bottom-color: transparent;\\n}\\n.with-nav-tabs.panel-warning .nav-tabs > li.dropdown .dropdown-menu {\\n    background-color: #fcf8e3;\\n    border-color: #faebcc;\\n}\\n.with-nav-tabs.panel-warning .nav-tabs > li.dropdown .dropdown-menu > li > a {\\n    color: #8a6d3b; \\n}\\n.with-nav-tabs.panel-warning .nav-tabs > li.dropdown .dropdown-menu > li > a:hover,\\n.with-nav-tabs.panel-warning .nav-tabs > li.dropdown .dropdown-menu > li > a:focus {\\n    background-color: #faebcc;\\n}\\n.with-nav-tabs.panel-warning .nav-tabs > li.dropdown .dropdown-menu > .active > a,\\n.with-nav-tabs.panel-warning .nav-tabs > li.dropdown .dropdown-menu > .active > a:hover,\\n.with-nav-tabs.panel-warning .nav-tabs > li.dropdown .dropdown-menu > .active > a:focus {\\n    color: #fff;\\n    background-color: #8a6d3b;\\n}\\n/********************************************************************/\\n/*** PANEL DANGER ***/\\n.with-nav-tabs.panel-danger .nav-tabs > li > a,\\n.with-nav-tabs.panel-danger .nav-tabs > li > a:hover,\\n.with-nav-tabs.panel-danger .nav-tabs > li > a:focus {\\n\\tcolor: #a94442;\\n}\\n.with-nav-tabs.panel-danger .nav-tabs > .open > a,\\n.with-nav-tabs.panel-danger .nav-tabs > .open > a:hover,\\n.with-nav-tabs.panel-danger .nav-tabs > .open > a:focus,\\n.with-nav-tabs.panel-danger .nav-tabs > li > a:hover,\\n.with-nav-tabs.panel-danger .nav-tabs > li > a:focus {\\n\\tcolor: #a94442;\\n\\tbackground-color: #ebccd1;\\n\\tborder-color: transparent;\\n}\\n.with-nav-tabs.panel-danger .nav-tabs > li.active > a,\\n.with-nav-tabs.panel-danger .nav-tabs > li.active > a:hover,\\n.with-nav-tabs.panel-danger .nav-tabs > li.active > a:focus {\\n\\tcolor: #a94442;\\n\\tbackground-color: #fff;\\n\\tborder-color: #ebccd1;\\n\\tborder-bottom-color: transparent;\\n}\\n.with-nav-tabs.panel-danger .nav-tabs > li.dropdown .dropdown-menu {\\n    background-color: #f2dede; /* bg color */\\n    border-color: #ebccd1; /* border color */\\n}\\n.with-nav-tabs.panel-danger .nav-tabs > li.dropdown .dropdown-menu > li > a {\\n    color: #a94442; /* normal text color */  \\n}\\n.with-nav-tabs.panel-danger .nav-tabs > li.dropdown .dropdown-menu > li > a:hover,\\n.with-nav-tabs.panel-danger .nav-tabs > li.dropdown .dropdown-menu > li > a:focus {\\n    background-color: #ebccd1; /* hover bg color */\\n}\\n.with-nav-tabs.panel-danger .nav-tabs > li.dropdown .dropdown-menu > .active > a,\\n.with-nav-tabs.panel-danger .nav-tabs > li.dropdown .dropdown-menu > .active > a:hover,\\n.with-nav-tabs.panel-danger .nav-tabs > li.dropdown .dropdown-menu > .active > a:focus {\\n    color: #fff; /* active text color */\\n    background-color: #a94442; /* active bg color */\\n}\\n\\t\\t</style>\\n\\t\\t<style>\\n\\t\\t.testimonials blockquote {\\n    background: #f8f8f8 none repeat scroll 0 0;\\n    border: medium none;\\n    color: #666;\\n    display: block;\\n    font-size: 14px;\\n    line-height: 20px;\\n    padding: 15px;\\n    position: relative;\\n}\\n.testimonials blockquote::before {\\n    width: 0; \\n    height: 0;\\n\\tright: 0;\\n\\tbottom: 0;\\n\\tcontent: \" \"; \\n\\tdisplay: block; \\n\\tposition: absolute;\\n    border-bottom: 20px solid #fff;    \\n\\tborder-right: 0 solid transparent;\\n\\tborder-left: 15px solid transparent;\\n\\tborder-left-style: inset; /*FF fixes*/\\n\\tborder-bottom-style: inset; /*FF fixes*/\\n}\\n.testimonials blockquote::after {\\n    width: 0;\\n    height: 0;\\n    right: 0;\\n    bottom: 0;\\n    content: \" \";\\n    display: block;\\n    position: absolute;\\n    border-style: solid;\\n    border-width: 20px 20px 0 0;\\n    border-color: #e63f0c transparent transparent transparent;\\n}\\n.testimonials .carousel-info img {\\n    border: 1px solid #f5f5f5;\\n    height: 75px;\\n    padding: 3px;\\n    width: 75px;\\n}\\n.testimonials .carousel-info {\\n    overflow: hidden;\\n}\\n.testimonials .carousel-info img {\\n    margin-right: 18px;\\n}\\n.testimonials .carousel-info span {\\n    display: block;\\n\\n}\\n.testimonials span.testimonials-name {\\n    color: #000000;\\n    font-size: 17px;\\n   \\n    \\n\\t\\n}\\n.testimonials span.testimonials-post {\\n    color: #000000;\\n    font-size: 16px;\\n\\tword-wrap: break-word;\\n}\\n\\t\\t</style>\\n\\t\\t\\n\\t\\t<style>\\n\\t\\t\\n\\t\\t@media (min-width: 767px) and (max-width: 1024px) {\\n    .navbar li a{\\n    font-size:8px;\\n    }\\n\\t.testimonials span.testimonials-name {\\n  font-size:9px;\\n  }\\n}\\n\\n\\t\\t@media (min-width: 960px) and (max-width: 1100px) {\\n    .navbar li a{\\n    font-size:11px;\\n    }\\n\\t.testimonials span.testimonials-name {\\n  font-size:10px;\\n  }\\n  .nav-tabs {\\n\\tfont-size:9px;  \\n  }\\n  .list-group\\n  {\\n\\tfont-size:11px; \\n  }\\n  \\n}\\n\\n@media (min-width: 1100px) {\\n  .navbar li a{\\n  font-size:14px;\\n  }\\n  \\n  .testimonials span.testimonials-name {\\n  font-size:16px;\\n  }\\n   .nav-tabs {\\n\\tfont-size:14px;  \\n  }\\n  \\n}\\n\\n\\n\\t\\t</style>\\n\\n\\n\\t\\t\\n    </head>\\n    <body>\\n        <!--[if lt IE 7]>\\n            <p class=\"browsehappy\">You are using an <strong>outdated</strong> browser. Please <a href=\"http://browsehappy.com/\">upgrade your browser</a> to improve your experience.</p>\\n        <![endif]-->\\n\\n        <nav class=\"navbar navbar-inverse navbar-fixed-top\" role=\"navigation\">\\n  <div class=\"container\">\\n    <!-- Brand and toggle get grouped for better mobile display -->\\n    <div class=\"navbar-header\">\\n      <button type=\"button\" class=\"navbar-toggle\" data-toggle=\"collapse\" data-target=\"#bs-example-navbar-collapse-1\">\\n        <span class=\"sr-only\">Toggle navigation</span>\\n        <span class=\"icon-bar\"></span>\\n        <span class=\"icon-bar\"></span>\\n        <span class=\"icon-bar\"></span>\\n      </button>\\n      <a class=\"navbar-brand\" href=\"index.php\"><img class=\"mob_img\" src=\"img/banner16.png\" style=\"max-width: 100%;height: auto;display: block;\"></a>\\n    </div>\\n\\n    <!-- Collect the nav links, forms, and other content for toggling -->\\n    <div class=\"collapse navbar-collapse\" id=\"bs-example-navbar-collapse-1\">\\n      <ul class=\"nav navbar-nav navbar-right\">\\n       <li class=\"dropdown\">\\n                <a href=\"#\" class=\"dropdown-toggle\" data-toggle=\"dropdown\">About <b class=\"caret\"></b></a>\\n                <ul class=\"dropdown-menu\">\\n                    <li><a href=\"about1.php\">About BHC</a></li>\\n\\t\\t\\t\\t\\t<li><a href=\"administrator.php\">Administrator\\'s profile</a></li>\\n<li><a href=\"dean.php\">Dean\\'s profile</a></li>\\n\\n<li><a href=\"nonteaching.php\">Administrative staff</a></li>\\n\\n                    <li><a href=\"college_song.php\">College Song</a></li>\\n\\t\\t\\t\\t\\t<li><a href=\"accreditation.php\">Accreditation</a></li>\\n\\t\\t\\t\\t\\t\\t<li><a href=\"international.php\">International Relations</a></li>\\n\\t\\t\\t\\t\\t\\t\\t<li><a href=\"helpline.php\">Student Helpline</a></li>\\n\\t\\t\\t\\t\\t<li><a href=\"iqac.php\">IQAC Report</a></li>\\n\\t\\t\\t\\t\\t\\n\\t\\t\\t\\t\\t\\t<li><a href=\"https://bhc.directverify.in/myeasydocs_new/student/index.html\">BHC Direct Verify</a></li>\\n\\t\\t\\t\\t\\t\\t <li><a href=\"logo.php\">Logo Download</a></li>\\n                  <li><a href=\"contactus.php\">Contact Us</a></li>\\n                </ul>\\n            </li>\\n\\t  \\n\\t  \\n          \\n             <li class=\"dropdown\">\\n                <a href=\"#\" class=\"dropdown-toggle\" data-toggle=\"dropdown\">Admission <b class=\"caret\"></b></a>\\n                <ul class=\"dropdown-menu\">\\n                    <li><a href=\"ug_prog.php\">UnderGraduate Programme</a></li>\\n\\t\\t\\t\\t\\t<li><a href=\"pg_prog.php\">PostGraduate Programme</a></li>\\n                     <li><a href=\"research.php\">Research Programme</a></li>\\n\\t\\t\\t\\t\\t<li><a href=\"dip_cer.php\">Diploma/Certificate Courses </a></li>\\n\\t\\t\\t\\t\\t<li><a href=\"int/front.php\">International Students</a></li>\\n\\t\\t\\t\\t\\t<li><a href=\"atp.php\">American Transfer Program</a></li>\\n\\t\\t\\t\\t\\t<li><a href=\"scholarship.php\">Scholarships</a></li>\\n                  <li><a href=\"admission.php\">Register Online</a></li>\\n\\t\\t\\t\\t  <li><a href=\"rules.php\">Rules & Regulation</a></li>\\n\\t\\t\\t\\t  <li><a href=\"hostel.php\">Hostels/Dining</a></li>\\n                </ul>\\n            </li>\\n             <li class=\"dropdown\">\\n                <a href=\"#\" class=\"dropdown-toggle\" data-toggle=\"dropdown\">Academics <b class=\"caret\"></b></a>\\n                <ul class=\"dropdown-menu\">\\n                    <li><a href=\"department.php\">Departments</a></li>\\n\\t\\t\\t\\t\\t<li><a href=\"research.php\">Research</a></li>\\n\\t\\t\\t\\t\\t<li><a href=\"library/index.php\">Library</a></li>\\n\\t\\t\\t\\t\\t\\t<li><a href=\"http://bhc.edu.in/curriculum/outcomes.php\">Curriculum</a></li>\\n\\n                    <li><a href=\"coe/index.php\">Controller of Examination</a></li>\\n\\t\\t\\t\\t\\t<li><a href=\"http://www.bhc.edu.in/cal/event/index.php\">Academic Calendar</a></li>\\n\\t\\t\\t\\t\\t<li><a href=\"#\">Student Service Center</a></li>\\n\\t\\t\\t\\t\\t<li><a href=\"facilities.php\">College Facilities</a></li>\\n\\n                </ul>\\n            </li>\\n            \\n            \\n             <li class=\"dropdown\">\\n                <a href=\"#\" class=\"dropdown-toggle\" data-toggle=\"dropdown\">Campus Life <b class=\"caret\"></b></a>\\n                <ul class=\"dropdown-menu\">\\n                    <li><a href=\"library/index.php\">Library</a></li>\\n\\t\\t\\t\\t\\t<li><a href=\"sports/index.php\">Sports</a></li>\\n\\t\\t\\t\\t\\t<li class=\"dropdown-submenu\"><a href=\"IT_Support/\">IT Support</a>\\n\\t\\t\\t\\t\\t<li class=\"dropdown-submenu\"><a href=\"hostel.php\">Hostel/Dining</a>\\n\\t\\t\\t\\t\\t\\n\\t\\t\\t\\n                </li>\\n                \\n                    <li><a href=\"facilities.php#ssc\">Student Service Center</a></li>\\n                    \\n                    <li><a href=\"stud_counseller.php\">Student Counselling Center</a></li>\\n\\t\\t\\t\\t\\t<li><a href=\"facilities.php#bus\">Bus Facilities </a></li>\\n\\t\\t\\t\\t\\t<li><a href=\"facilities.php#hospital\">College Health Care</a></li>\\n\\t\\t\\t\\t\\t<li><a href=\"#\">Cafeteria</a></li>\\n\\t\\t\\t\\t\\t<li class=\"dropdown-submenu\"><a href=\"facitlity_dept.php\">Facility Department</a>\\n\\n                  \\n                </ul>\\n            </li>\\n            \\n            \\n            \\n\\t\\t\\t\\n\\t\\t\\t<li><a href=\"http://bhc.edu.in/coe/index.php\">COE</a></li>\\n\\t\\t\\t<li><a href=\"iqac.php\">IQAC</a></li>\\n\\t\\t\\t<li><a href=\"http://bhc.edu.in/library/index.php\">Library</a></li>\\n            <li><a href=\"http://bhc.edu.in/sports/index.php\">Sports</a></li>\\n             <li><a href=\"http://bhc.edu.in/hebaa/index.php\">Alumni</a></li>\\n\\t\\t\\t <li class=\"dropdown\">\\n                <a href=\"#\" class=\"dropdown-toggle\" data-toggle=\"dropdown\">Login <b class=\"caret\"></b></a>\\n                <ul class=\"dropdown-menu\">\\n                    &nbsp;&nbsp;<font color=\"red\">Staff</font>\\n                          <li><a href=\"http://gmail.com\">Heber Mail</a></li>\\n\\t\\t\\t\\t         \\n                             <li><a href=\"http://182.75.124.174:10083/\">M.Phil. CIA Mark Entry</a></li>\\n\\t\\t\\t              \\t<li><a href=\"http://182.75.124.174:10088/\">CIA Mark Entry</a></li>\\n                        <li><a href=\"http://182.75.124.174:10092/\">Student Attendance</a></li>\\n                   <li><a href=\"http://182.75.124.174:10080/\">Staff Profile Entry</a></li>\\n                   \\n                  <!--   <li><a href=\"http://182.75.124.174:10030/\">Part V Mark Entry</a></li> -->\\n                   \\n                    <li class=\"divider\"></li>\\n                    &nbsp;&nbsp;<font color=\"red\">Students</font>\\n\\t\\t\\t\\t <li><a href=\"http://bhc.edu.in/coe/result.php\">Result</a></li>\\n\\t\\t\\t\\t \\n\\t\\t\\t\\t \\n\\t\\t\\t\\t <li><a href=\"http://182.75.124.174:10091/\">Part V</a></li> \\n\\t\\t\\t\\t \\n\\t<!--\\t <li><a href=\"partV.html\">Part V</a></li> -->\\n\\t\\t<li><a href=\"http://182.75.124.174:10089/\">NMEC Registration</a></li>\\n\\t\\t\\n\\t\\t<li><a href=\"http://student.bhc.edu.in/\">Placement Registration</a></li>\\n\\n\\t\\t<li><a href=\"http://hallticket.bhc.edu.in\">ESE Hall Ticket 2018</a></li>\\t\\n\\t    <li><a href=\"https://fees.bhc.edu.in\">Online Fees Payment</a></li>\\t\\n\\t\\t<li><a href=\"http://182.75.124.174:10082\">Student\\'s Feedback</a></li>\\t \\n                  \\n                </ul>\\n            </li>\\n      </ul>\\n    </div><!-- /.navbar-collapse -->\\n  </div><!-- /.container -->\\n  <br/>\\n  \\n  <div class=\"col-xs-12\" ><br/>\\n\\t<!--<center><H5><font color=\"#FFFFFF\">Nationally Accredited at \\'A\\' Grade by NAAC  with a CGPA of 3.58 out of 4 | Recognized by UGC as \"College with Potential for Excellence\"</font></H5></center>-->\\n\\t\\t\\t\\t\\n            </div>\\n</nav>\\n\\n\\n\\n<br/>\\n<!--\\n<div class=\"container\">\\n    <div class=\"row\">\\n        <div class=\"col-md-3 col-sm-6\">\\n            <div class=\"pricingTable\">\\n                <div class=\"pricingTable-header\">\\n                    <h5><b>Nationally Accredited at \\'A\\' Grade by NAAC  with a CGPA of 3.58 out of 4</b></h5>\\n                </div>\\n               \\n               \\n            </div>\\n        </div>\\n \\n        <div class=\"col-md-3 col-sm-6\">\\n            <div class=\"pricingTable\">\\n                <div class=\"pricingTable-header\">\\n                    <h5><b>Recognized by UGC as \"College for Excellence<b/></h5>\\n                </div>\\n                \\n              \\n            </div>\\n        </div>\\n<div class=\"col-md-3 col-sm-6\">\\n            <div class=\"pricingTable\">\\n                <div class=\"pricingTable-header\">\\n                    <h5><b>Ranked 4th in Overall NIRF Ranking, New Delhi</b></h5>\\n                </div>\\n                \\n              \\n            </div>\\n        </div>\\n<div class=\"col-md-3 col-sm-6\">\\n            <div class=\"pricingTable\">\\n                <div class=\"pricingTable-header\">\\n                    <h5><b>Affiliated to Bharathidasan University, Trichirapalli</b> </h5>\\n                </div>\\n                \\n              \\n            </div>\\n        </div>\\n    </div>\\n</div>\\n-->\\n<div class=\"container\">\\n    \\n    <div class=\"row\">\\n    \\n    <!--<div class=\"col-sm-1\">\\n        \\n        <center><H4>&nbsp; Timeline</H4></center>\\n        </div>-->\\n        <div class=\"col-sm-12\">\\n\\n\\n<marquee behavior=\"scroll\" direction=\"left\" onmouseover=\\'this.stop();\\' onmouseout=\\'this.start();\\' BGCOLOR=\"#95dff8\" style=\"padding:10px;\">\\n\\n<b><font color=\"#8B0000\">\\n\\n\\t \\nAnnouncements: </font>\\n &nbsp;&nbsp;&nbsp;>>&nbsp;&nbsp;&nbsp;   International Conference on Applications of Basic Sciences(Nov 19 - 21, 2019) -<a href=\"http://heber-icabs.com/\">View Details</a> &nbsp;&nbsp;&nbsp;>>&nbsp;&nbsp;&nbsp;   <a href=\"http://www.bdu.ac.in/examinations/docs/timetables/apr2019/ug/ug-ure-rank-exam-intimation-application-instructions-april-2019-v3.pdf\">U.G. Programme - University Rank Examination on 8\\r\\nth September, 2019.</a> &nbsp;&nbsp;&nbsp;>>&nbsp;&nbsp;&nbsp;   Registration for Differently Abled Students - <a href=\"https://docs.google.com/forms/d/e/1FAIpQLSfcmTqHXpX-G_84Atfl-8ONseZYD-YB3bOWLmjG5dlQsHEArw/viewform\">Click here for register</a> &nbsp;&nbsp;&nbsp;>>&nbsp;&nbsp;&nbsp;   Admission open for M.Sc.Data Science. Apply online now. Any queries please contact:9942002764 &nbsp;&nbsp;&nbsp;>>&nbsp;&nbsp;&nbsp;   From COE OFfice: Students are asked to pay their examination fees and other fees via online only(Net Banking or Debit/Credit Cards).  \\r\\nSwiping machines are available in College Office. Last Date:5/10/2019\\t\\n</font>\\n\\n\\n\\n\\n</marquee>\\n\\n</div>\\n\\n</div>\\n</div>\\n<Br/>\\n<style>\\n.pricingTable{\\n    border: 1px solid #004f88;\\n    padding: 0px 0;\\n    text-align: center;\\n    position: relative;\\n}\\n.pricingTable:before,\\n.pricingTable:after{\\n    content: \"\";\\n    width: 0;\\n    height: 0;\\n    position: absolute;\\n    opacity: 0;\\n    transition: all 0.5s ease 0s;\\n}\\n.pricingTable:before{\\n    top: -5px;\\n    left: -5px;\\n    border-top: 5px solid #004f88;\\n    border-left: 5px solid #004f88;\\n}\\n.pricingTable:after{\\n    bottom: -5px;\\n    right: -5px;\\n    border-bottom: 5px solid #004f88;\\n    border-right: 5px solid #004f88;\\n}\\n.pricingTable:hover:before,\\n.pricingTable:hover:after{\\n    width: 30%;\\n    height: 30%;\\n    opacity: 1;\\n}\\n.pricingTable .pricingTable-header{\\n    margin-bottom: 20px;\\n}\\n.pricingTable .heading{\\n    font-size: 24px;\\n    font-weight: 700;\\n    color: #333;\\n    margin: 0;\\n    text-transform: uppercase;\\n}\\n.pricingTable .price-Value{\\n    color: #ed2d7b;\\n    margin-bottom: 20px;\\n}\\n.pricingTable .amount{\\n    font-size: 80px;\\n    position: relative;\\n}\\n.pricingTable .currency{\\n    display: inline-block;\\n    font-size: 35px;\\n    position: absolute;\\n    top: -5px;\\n    left: -20px;\\n}\\n.pricingTable .pricingTable-signup{\\n    display: inline-block;\\n    background: #004f88;\\n    font-size: 14px;\\n    font-weight: 800;\\n    color: #fff;\\n    padding: 10px 30px;\\n    text-transform: uppercase;\\n    transition: all 0.5s ease 0s;\\n}\\n.pricingTable .pricingTable-signup:hover{\\n    background: #ed2d7b;\\n}\\n@media only screen and (max-width:990px){\\n    .pricingTable{ margin-bottom: 30px; }\\n}\\n</style>\\n<style>\\n\\n/* Extra small devices (phones, up to 480px) */\\n\\n@media screen and (max-width: 460px) {\\n\\n H1{\\n        font-size:19px;\\n    }\\n\\nbody\\n{\\npadding-top: 80px;\\n}\\n\\n.mob_img\\n{\\nwidth: 100%\\n}\\n\\n\\n}\\n\\n\\n@media (min-width:461px) and (max-width:767px) {\\n\\n H1{\\n        font-size:19px;\\n    }\\n\\nbody\\n{\\npadding-top: 80px;\\n}\\n\\n.mob_img\\n{\\nwidth: 100%\\n}\\n\\n\\n}\\n\\n/* Small devices (tablets, 768px and up) */\\n@media (min-width: 768px) and (max-width: 991px) {\\nbody\\n{\\npadding-top: 100px;\\n}\\n}\\n/* tablets/desktops and up ----------- */\\n@media (min-width: 992px) and (max-width: 1199px) {\\nbody\\n{\\npadding-top: 100px;\\n}\\n.mob_img\\n{\\nwidth: 100%\\n}\\n\\n\\n}\\n\\n\\n/* large desktops and up ----------- */\\n/* large desktops and up ----------- */\\n@media screen and (min-width: 1200px) {\\nbody\\n{\\npadding-top: 80px;\\n}\\n\\n.mob_img\\n{\\nwidth: 100%\\n}\\n\\n\\n}\\n</style>  \\n\\n\\n<head>\\n  <link href=\\'http://fonts.googleapis.com/css?family=Roboto\\' rel=\\'stylesheet\\'  type=\\'text/css\\'>\\n</head>\\n\\n<style>\\n\\nbody {\\n\\tfont-family: \\'Roboto\\', sans-serif;\\n}\\n</style>\\n<style>\\n\\n\\n#accordion .panel{\\n    border: none;\\n    box-shadow: none;\\n    margin: 0;\\n}\\n#accordion .panel-heading{\\n    padding: 0;\\n    background: #f6f7f7;\\n}\\n#accordion .panel-title a{\\n    position: relative;\\n    display: block;\\n    font-size: 14px;\\n    font-weight: bolder;\\n    color: #013e6a;\\n    background: transparent;\\n    padding: 15px 50px;\\n    text-transform: uppercase;\\n    transition: all 0.10s linear 0s;\\n}\\n#accordion .panel-title a i{\\n    font-size: 16px;\\n    position: absolute;\\n    top: 15px;\\n    left: 20px;\\n}\\n#accordion .panel-title a.collapsed{\\n    color: #808080;\\n    border-bottom: 1px solid #d3d3d3;\\n}\\n#accordion .panel-title a.collapsed:hover{\\n    color: #013e6a;\\n}\\n#accordion .panel-title a:after,\\n#accordion .panel-title a.collapsed:after{\\n    content: \"\\\\f00c\";\\n    font-family: FontAwesome;\\n    width: 50px;\\n    height: 45px;\\n    text-align: center;\\n    font-size: 20px;\\n    background: #fff;\\n    color: #013e6a;\\n    line-height: 45px;\\n    position: absolute;\\n    top: 0;\\n    right: 0;\\n}\\n#accordion .panel-title a.collapsed:after{\\n    content: \"\\\\f00d\";\\n    color: #808080;\\n}\\n#accordion .panel-body{\\n    font-size: 14px;\\n    color: #808080;\\n    border-top: 0 none;\\n}\\n</style>\\n\\n<style>\\na:hover,a:focus{\\n    text-decoration: none;\\n    outline: none;\\n}\\n.nav-tabs {\\n    position: relative;\\n  \\n}\\n.nav-tabs > li:hover:after,\\n.nav-tabs .active:after{\\n    content: \"\";\\n    border-top: 10px solid #013e6a;\\n    border-left: 9px solid transparent;\\n    border-right: 9px solid transparent;\\n    position: absolute;\\n    top:41px;\\n    right: 38%;\\n}\\n.nav-tabs > li > a{\\n    border-radius: 0px;\\n    background: #272d33;\\n    padding:10px 20px ;\\n    color:#fff;\\n}\\n.nav-tabs > li > a:hover{\\n    border-color:transparent;\\n    background: #013e6a;\\n    transition:0.3s ease;\\n}\\n.nav-tabs > li.active > a,\\n.nav-tabs > li.active > a:focus,\\n.nav-tabs > li.active > a:hover{\\n    background:#013e6a;\\n    color:#fff;\\n}\\n.tab-content > .tab-pane{\\n    \\n    border-top: 0px none;\\n    padding: 10px;\\n    line-height: 22px;\\n}\\n@media only screen and (max-width: 360px){\\n    .nav-tabs > li > a{\\n        padding: 10px;\\n    }\\n}\\n</style>\\n<link rel=\"stylesheet\" href=\"https://cdnjs.cloudflare.com/ajax/libs/owl-carousel/1.3.3/owl.carousel.min.css\">\\n<link rel=\"stylesheet\" href=\"https://cdnjs.cloudflare.com/ajax/libs/owl-carousel/1.3.3/owl.theme.min.css\">\\n<style>\\n\\n \\n.testimonial{\\n    text-align: center;\\n}\\n.description{\\n    color:#ff0000;\\n    font-size: 16px;\\n    line-height: 30px;\\n    margin-bottom: 10px;\\n    padding:0px -12%;\\n    position: relative;\\n}\\n\\n\\n.description:before{\\n    content: \"\\\\f10d\";\\n    font-family: \\'FontAwesome\\';\\n    display: inline-block;\\n    position: absolute;\\n    top: 8px;\\n    left: 0%;\\n    color:#3498db;\\n    font-size: 20px;\\n}\\n.description:after{\\n    content: \"\\\\f10e\";\\n    font-family: \\'FontAwesome\\';\\n    display: inline-block;\\n    position: absolute;\\n    top: 8px;\\n    right: 0%;\\n    color:#3498db;\\n    font-size: 20px;\\n}\\n.pic{\\n    width:124px;\\n    height: 94px;\\n    margin: 0 auto;\\n}\\n.pic img{\\n    width: 100%;\\n    height: auto;\\n    border-radius: 50%;\\n}\\n.testimonial-title{\\n    font-size: 18px;\\n    color:#333;\\n    font-weight: bolder;\\n    text-transform: capitalize;\\n}\\n.testimonial-title > small{\\n    display: block;\\n    color:#656565;\\n    font-size: 15px;\\n    text-transform: uppercase;\\n    margin-top: 5px;\\n}\\n.owl-theme .owl-controls .owl-page.active span, .owl-theme .owl-controls.clickable .owl-page:hover span{\\n    background: #3498db;\\n}\\n.owl-theme .owl-controls .owl-page span{\\n    opacity: 1;\\n}\\n@media screen and (max-width: 480px) {\\n    .description{\\n        font-size:19px;\\n        line-height: 29px;\\n    }\\n    .description:before,\\n    .description:after{\\n        font-size: 25px;\\n    }\\n}\\n\\n</style>\\n\\n<style>\\n.modal  {\\n    /*   display: block;*/\\n    padding-right: 0px;\\n    background-color: rgba(4, 4, 4, 0.8); \\n    }\\n   \\n    .modal-dialog {\\n            top: 20%;\\n                width: 100%;\\n    position: absolute;\\n        }\\n        .modal-content {\\n                border-radius: 0px;\\n                border: none;\\n    top: 40%;\\n            }\\n            .modal-body {\\n                    background-color: #0f8845;\\n    color: white;\\n                }\\n</style>\\n\\n\\n\\n<script type=\"text/javascript\" src=\"https://code.jquery.com/jquery-1.12.0.min.js\"></script>\\n<script type=\"text/javascript\" src=\"https://cdnjs.cloudflare.com/ajax/libs/owl-carousel/1.3.3/owl.carousel.min.js\"></script>\\n <script>\\n$(document).ready(function(){\\n    $(\"#testimonial-slider\").owlCarousel({\\n        items:1,\\n        itemsDesktop:[1199,1],\\n        itemsDesktopSmall:[979,1],\\n        itemsTablet:[768,1],\\n        pagination: true,\\n        autoPlay:true\\n    });\\n});\\n</script>\\n\\n\\n\\n<div class=\"container \">\\n\\n<div class=\"hero\">\\n\\n <div class=\"row top-buffer\"> <div class=\"col-md-8\">\\n                <div id=\"carousel-example-generic\" class=\"carousel slide\" data-ride=\"carousel\">\\n                      <!-- Indicators -->\\n                      <ol class=\"carousel-indicators\">\\n                        <li data-target=\"#carousel-example-generic\" data-slide-to=\"0\" class=\"active\"></li>\\n                        \\n                        <li data-target=\"#carousel-example-generic\" data-slide-to=\"1\" class=\"active\"></li>\\n                        \\n                        <li data-target=\"#carousel-example-generic\" data-slide-to=\"2\" class=\"active\"></li>\\n                        \\n                        \\n                        <li data-target=\"#carousel-example-generic\" data-slide-to=\"3\" class=\"active\"></li>\\n                        \\n                        <li data-target=\"#carousel-example-generic\" data-slide-to=\"4\" class=\"active\"></li>\\n                        \\n                        \\n                        <li data-target=\"#carousel-example-generic\" data-slide-to=\"5\" class=\"active\"></li>\\n                        \\n                        <li data-target=\"#carousel-example-generic\" data-slide-to=\"6\" class=\"active\"></li>\\n                       \\n                      </ol>\\n\\n                      <!-- Wrapper for slides -->\\n                      <div class=\"carousel-inner\">\\n                          \\n                          \\n                          \\n                          <!-- <div class=\"item \">\\n                           <img src=\"img/hold/steve.jpg\" alt=\"\"> \\n                          \\n                        </div>\\n                        \\n                        \\n                         <div class=\"item active\">\\n                          <img src=\"img/rejoice.jpg\" alt=\"\">\\n                          \\n                        </div>-->\\n                        \\n                      <!--   <div class=\"item \">\\n                          <img src=\"img/sp1.jpg\" alt=\"\">\\n                          \\n                        </div>\\n                        \\n                         <div class=\"item\">\\n                          <img src=\"img/sp2.jpg\" alt=\"\">\\n                          \\n                        </div>-->\\n                        \\n                        \\n                        <!-- <div class=\"item active\">\\n                          <img src=\"img/bhc_sports.jpg\" alt=\"\">\\n                          \\n                        </div> -->\\n                  <!--      \\n                         <div class=\"item\">\\n                          <img src=\"img/FRESHERS ORIENTATION.jpeg\" alt=\"\">\\n                          \\n                        </div> \\n                        \\n                          <div class=\"item active\">\\n                          <img src=\"img/it1.jpg\" alt=\"\">\\n                          \\n                        </div> \\n                        \\n                        <div class=\"item active\">\\n                          <img src=\"img/crit19_invitation.jpg\" alt=\"\"> \\n                       </div> -->\\n                        \\n                      <!--  <div class=\"item active\">\\n                          <img src=\"img/biofest1.jpg\" alt=\"\">\\n                        </div>\\n                        \\n                        <div class=\"item \">\\n                          <img src=\"img/env_sci.jpg\" alt=\"\">\\n                          \\n                        </div>\\n                         \\n                        \\n                       \\n\\n                     <div class=\"item active\">\\n                          <img src=\"img/acm.jpeg\" alt=\"\">\\n                          \\n                        </div> -->\\n                \\n                      \\n                       \\n                     <!--   <div class=\"item \">\\n                          <img src=\"img/lithit192.jpg\" alt=\"\">\\n                          \\n                        </div> \\n                        \\n                        \\n                        \\n                         <div class=\"item \" >\\n                         <center>  <img src=\"img/College_Day.jpg\" alt=\"\" width=\"50%\"></center> \\n                          \\n                        </div> \\n                        \\n                         <div class=\"item active\">\\n                          <img src=\"img/NMEC.jpg\" alt=\"\">\\n                          \\n                        </div> -->\\n                        \\n                        \\n                      <!--   <div class=\"item active\">\\n                          <img src=\"img/service_day.jpg\" alt=\"\">\\n                          \\n                        </div>\\n\\n                        <div class=\"item\">\\n                          <img src=\"img/club_first.jpg\" alt=\"\">\\n                          \\n                        </div>\\n                        \\n                        \\n                        \\n                        <div class=\"item\">\\n                          <img src=\"img/sf1.jpg\" alt=\"\">\\n                          \\n                        </div>\\n                          <div class=\"item\">\\n                          <img src=\"img/sf2..jpg\" alt=\"\">\\n                          \\n                        </div>-->\\n                        \\n                       \\n                      <!--\\n                         <div class=\"item active\">\\n                         <center> <img src=\"img/preethi.jpg\" alt=\"\"></center>\\n                          \\n                        </div>\\n                        \\n                        <div class=\"item  \">\\n                          <img src=\"img/New_Education_Policy_Web.jpg\" alt=\"\">\\n                          \\n                        </div> -->\\n                        \\n                        \\n                        <!-- <div class=\"item active\">\\n                         <center> <img src=\"img/preethi.jpg\" alt=\"\"></center>\\n                          \\n                        </div>\\n                        \\n                         <div class=\"item \">\\n                          <img src=\"img/FESTO.jpg\" alt=\"\">\\n                          \\n                        </div> \\n                        \\n                        \\n                          <div class=\"item \">\\n                          <center><img src=\"news_content/gandhi_quiz.jpg\"  width=\"50%\"alt=\"\"></center>\\n                          \\n                        </div> -->\\n\\n                        \\n                        <div class=\"item active\">\\n                          <img src=\"img/gp.jpg\" alt=\"\">\\n                          \\n                        </div>\\n                        \\n                       \\n                <!--        <div class=\"item\">\\n                          <img src=\"img/PG.jpg\" alt=\"\">\\n                          \\n                        </div>\\n                        \\n                           <div class=\"item\">\\n                          <img src=\"img/UG.jpg\" alt=\"\">\\n                          \\n                        </div> \\n                        \\n                        \\n                        \\n                      <div class=\"item \">\\n                          <img src=\"img/hncees.jpg\" alt=\"\">\\n                          \\n                        </div> -->\\n                       \\n                       \\n                        \\n                       <!--    <div class=\"item\">\\n                          <img src=\"img/HNCEES_Mar_19_1.jpg\" alt=\"\">\\n                          \\n                        </div> -->\\n                     <!--    <div class=\"item\">\\n                          <img src=\"img/178A5225.jpg\" alt=\"\">\\n                          \\n                        </div>\\n                         <div class=\"item\">\\n                          <img src=\"img/178A5198.jpg\" alt=\"\">\\n                          \\n                        </div>\\n                        \\n                       <div class=\"item\">\\n                          <img src=\"img/intl.jpg\" alt=\"\">\\n                          \\n                        </div>-->\\n                        \\n                 <!--         <div class=\"item\">\\n                          <img src=\"img/ANEH2019-Web-V3.png\" alt=\"\">\\n                          \\n                        </div>  -->\\n                        \\n                        \\n                    \\n                        \\n                       <!---  <div class=\"item \">\\n                          <img src=\"img/web3.jpg\" alt=\"\">\\n                          \\n                        </div>\\n                        \\n                        <div class=\"item\">\\n                          <img src=\"img/web2.jpg\" alt=\"\">\\n                          \\n                        </div>\\n                    \\n                     <div class=\"item\">\\n                          <img src=\"img/web1.jpg\" alt=\"\">\\n                          \\n                        </div>\\n                     \\n                        \\n                         <div class=\"item\">\\n                          <img src=\"img/southkorea.jpg\" alt=\"\">\\n                          \\n                        </div>-->\\n                        \\n                     <!--  <div class=\"item\">\\n                          <img src=\"img/front/international.jpg\" alt=\"\">\\n                          \\n                        </div>-->\\n                        \\n                     <!--   <div class=\"item \">\\n                          <img src=\"img/sert.jpg\" alt=\"\">\\n                          \\n                        </div>-->\\n                     \\n                     \\n                         \\n                      \\n                        \\n                      \\n                        \\n                        \\n                        \\n                        \\n                        \\n                        \\n                        \\n                        \\n                        \\n\\n                        \\n                       \\n                         <!-- <div class=\"item\">\\n                          <img src=\"img/nirf.jpg\" alt=\"\">\\n                          \\n                        </div>-->\\n                        \\n                       \\n                        \\n                     \\n                          \\n                          \\n                         \\n                          \\n                        \\n                          \\n                      <!--  <div class=\"item \">\\n                          <img src=\"img/hold/pgblock.jpg\" alt=\"\">\\n                          \\n                        </div>\\n\\t\\t\\t\\t\\t\\t \\n                     <div class=\"item\">\\n                          <img src=\"img/hold/admin.jpg\" alt=\"\">\\n                          \\n                        </div>\\n                     <div class=\"item\">\\n                          <img src=\"img/hold/garden.jpg\" alt=\"\">\\n                          \\n                        </div>-->\\n\\n                       \\n                       \\n                      </div>\\n\\t\\t\\t\\t\\t  \\n\\n                      <!-- Controls -->\\n                      <a class=\"left carousel-control\" href=\"#carousel-example-generic\" data-slide=\"prev\">\\n                        <span class=\"glyphicon glyphicon-chevron-left\"></span>\\n                      </a>\\n                      <a class=\"right carousel-control\" href=\"#carousel-example-generic\" data-slide=\"next\">\\n                        <span class=\"glyphicon glyphicon-chevron-right\"></span>\\n                      </a>\\n                    </div> <!--end carousel -->\\n\\t\\t\\t\\t\\t</div>\\n\\t\\t<div class=\"col-md-4\" height=\"100%\">\\n\\t\\t\\n<br/>\\n\\n\\n\\n\\n\\n\\n\\n<div class=\"col-md-12\">\\n\\n            <div class=\"col-sm-offset-1 col-sm-10\">\\n                <div id=\"testimonial-slider\" class=\"owl-carousel\">\\n                    <div class=\"testimonial\">\\n                        <p class=\"description\">\\n<br/>\\n                            Recognized by UGC as \"College of Excellence\"\\n                        </p>\\n \\n                           </div>\\n \\n                    <div class=\"testimonial\">\\n                        <p class=\"description\"><br/>\\nNationally Re-accredited at the \\'A\\' by NAAC with a CGPA of 3.58 out of 4\\n                        </p>\\n \\n                        \\n                    </div>\\n\\n\\n<div class=\"testimonial\">\\n                        <p class=\"description\"><br/>\\nAn Aided and Autonomous Institution of Government of Tamil Nadu\\n                        </p>\\n\\n \\n                        \\n                    </div>\\n\\n\\n<div class=\"testimonial\">\\n                        <p class=\"description\"><br/>\\n \\xe2\\x80\\x98Star College Status\\xe2\\x80\\x99 by Department of Bio Technology, GOI\\n                        </p>\\n\\n \\n                        \\n                    </div>\\n\\n\\n<div class=\"testimonial\">\\n                        <p class=\"description\"><br/>\\nAccredited Study Centre for  IGNOU,New Delhi \\n                        </p>\\n\\n \\n                        \\n                    </div>\\n\\n\\n<div class=\"testimonial\">\\n                        <p class=\"description\"><br/>\\nAvowed Academic tie-ups with 8 Foreign Universities\\n                        </p>\\n\\n \\n                        \\n                    </div>\\n\\n\\n\\n                </div>\\n\\n            </div>\\n        </div>\\n       \\n \\n          \\n\\t\\t\\t\\n<br/>\\n\\n               <div class=\"col-md-12\">\\n                   \\n                   <br/>\\n<!--<center><a href=\"http://bhc.edu.in/live.php\" class=\"btn1 btn-lg purple\"><img src=\"https://media.giphy.com/media/SYDQg1ZgOSa6Q/giphy.gif\" width=\"10%\"/>FESTAURUM 2k19 Live </a></center><br/><br/>\\n  -->\\n  \\n  <center><img src=\"https://media.giphy.com/media/SYDQg1ZgOSa6Q/giphy.gif\" width=\"10%\"/>\\n  <!-- <font color=\"#FF0000\">NMEC Registration will be available for all First year UG Students from 27/03/2019 3:00PM onwards  <br/>\\n  <a href=\"http://182.75.124.174:10089/\"><font size=\"5\">Click here to register</font></a></font> </a></center><br/><br/> -->\\n  \\n  \\n  <font color=\"#FF0000\"><span style=\"font-size:20px;\"> II,III Year UG and PG Fees Payment Gateway  </span><br/>\\n  <a href=\"http://bhc.edu.in/feeshome/\"><font size=\"5\">Click here to pay</font></a></font> </a></center><br/><br/>\\n  \\n  \\n  \\n  \\n\\n  <div>\\n\\n                <!-- Nav tabs -->\\n                <ul class=\"nav nav-tabs\" role=\"tablist\">\\n                    <li role=\"presentation\" class=\"active\">\\n                    <a href=\"#Section1\" aria-controls=\"home\" role=\"tab\" data-toggle=\"tab\">Events</a></li>\\n                    <li role=\"presentation\"><a href=\"#Section2\" aria-controls=\"profile\" role=\"tab\" data-toggle=\"tab\">Sports </a></li>\\n                    <li role=\"presentation\"><a href=\"#Section3\" aria-controls=\"messages\" role=\"tab\" data-toggle=\"tab\">Alumni</a></li>\\n\\n                </ul>\\n                <!-- Tab panes -->\\n                <div class=\"tab-content\">\\n                    <div role=\"tabpanel\" class=\"tab-pane active\" id=\"Section1\">\\n                       <!--<center><H4 style=\"text-transform: capitalize;\">Today(10-09-2019)  <font color=\"#8B0000\"></font></H4></center>-->\\n<!--<font color=\"#8B0000\">Upcoming Event</font> (<a href=\"\"><font color=\"#8B0000\">Archive</font></a>)<br/><br/>-->\\n\\n<p style=\"text-transform: capitalize;\">\\n<font color=\"#8B0000\">23-03-2019</font> - Heber National Conference on Ensuring Environmental Sustainability <a href=\"news_content/hncees.pdf\">View Brochure</a>- Environmental Sciences<br/><br/><font color=\"#8B0000\">22-03-2019</font> - Heber National Conference on Ensuring Environmental Sustainability <a href=\"news_content/hncees.pdf\">View Brochure</a>- Environmental Sciences<br/><br/><font color=\"#8B0000\">13-03-2019</font> - 53rd College Day Celebrations  - College General<br/><br/>\\t\\n\\n       </p>    \\n\\n<a href=\"\"><font color=\"#8B0000\"><a href=\"up_event.php\">More Events..</a></font>\\n\\n\\n\\n\\n         </div>\\n                    <div role=\"tabpanel\" class=\"tab-pane\" id=\"Section2\">\\n\\n\\n<font color=\"#8B0000\">Events:<br/></font> \\n\\n\\n<font color=\"#8B0000\">20-02-2018</font>-<Strong>Third Edition of Golden Jubilee  Inter-college Tournament(Foot Ball)(3 Days)</strong><br/><br/><font color=\"#8B0000\">27-02-2018</font>-<Strong>Third Edition of Golden Jubilee  Inter-college Tournament(Volley Ball)(3 Days)\\r\\n </strong><br/><br/><font color=\"#8B0000\">06-03-2018</font>-<Strong>Third Edition of Golden Jubilee  Inter-college Tournament(Basket Ball)(3 Days)\\r\\n</strong><br/><br/>\\t\\n\\n       </p> \\n\\n\\n                    </div>\\n                    <div role=\"tabpanel\" class=\"tab-pane\" id=\"Section3\">\\n<font color=\"#8B0000\">News:<br/></font> \\n\\n\\n<font color=\"#8B0000\"><a href=\"http://bhc.edu.in/hebaa/reunion_gallery/\">HEBAA Global Reunion 2016 Memory Lane</a></font><br/><br/><font color=\"#8B0000\"><a href=\"http://bhc.edu.in/hebaa/register.php\">Alumni registeration! </a></font><br/><br/>\\t\\n\\n       </p> \\n\\n                    </div>\\n\\n                </div>\\n            </div>\\n        </div>\\n                    \\n                \\n           \\n\\n\\n               \\n   \\n  </div>\\n  \\n\\n</div>\\n\\n\\t\\t\\t\\t\\t\\t\\n\\t\\n\\t\\t\\t\\t\\t\\t\\n\\t\\t\\t\\t\\t\\t</div>\\n                       \\n                    </div>\\n                </div>\\n            </div>\\n        \\n\\t\\t\\n\\t\\t\\n\\t\\t</div>\\n          <!--      <div class=\"thumbnail\">\\n                  \\n\\t\\t<center><b><H3><font color=\"#8B0000\">I Day Order</font></H3></b></center>\\n  <div class=\"newsfeed_area wow fadeInRight\">\\n            <ul class=\"nav nav-tabs feed_tabs\" id=\"myTab2\">\\n              <li class=\"active\"><a href=\"#news\" data-toggle=\"tab\"><B><font color=\"#8B0000\">College Events</font></b></a></li>\\n              <li><a href=\"#notice\" data-toggle=\"tab\"><B><font color=\"#8B0000\">Alumni News</font></B></a></li>\\n                  \\n            </ul>\\n\\n            <!-- Tab panes \\n            <div class=\"tab-content\">\\n              <!-- Start news tab content\\n              <div class=\"tab-pane fade in active\" id=\"news\">                \\n                <ul class=\"news_tab\">\\n                  <li>\\n                    <div class=\"media\">\\n                     \\n                      <div class=\"media-body\">\\n                       <a href=\"#\">Dummy text of the printing and typesetting industry</a>\\n                       <span class=\"feed_date\">27.02.15</span>  \\n                      </div>\\n                    </div>                    \\n                  </li><br/>\\n                  <li>\\n                    <div class=\"media\">\\n                      \\n                      <div class=\"media-body\">\\n                       <a href=\"#\">  Dummy text of the printing and typesetting industry</a>\\n                       <span class=\"feed_date\">28.02.15</span>   \\n                      </div>\\n                    </div>\\n                  </li> <br/>\\n                  <li>\\n                    <div class=\"media\">\\n                      <div class=\"media-left\">\\n                        \\n                      </div>\\n                      <div class=\"media-body\">\\n                       <a href=\"#\"> Dummy text of the printing and typesetting industry</a>\\n                       <span class=\"feed_date\">28.02.15</span> \\n                      </div>\\n                    </div>\\n                  </li>\\n                </ul>                \\n                <center><a class=\"see_all\" href=\"#\">See All</a></center>\\n              </div>\\n              <!-- Start notice tab content  \\n              <div class=\"tab-pane fade \" id=\"notice\">\\n                <div class=\"single_notice_pane\">\\n                  <ul class=\"news_tab\">\\n                    <li>\\n                      <div class=\"media\">\\n                        <div class=\"media-left\">\\n                          \\n                        </div>\\n                        <div class=\"media-body\">\\n                         <a href=\"#\"> <br/>  Dummy text of the printing and typesetting industry</a>\\n                         <span class=\"feed_date\">27.02.15</span>   \\n                        </div>\\n                      </div>              \\n                    </li>\\n                    <li>    \\n                      <div class=\"media\">\\n                        \\n                        <div class=\"media-body\">\\n                         <a href=\"#\">   Dummy text of the printing and typesetting industry</a>\\n                         <span class=\"feed_date\">28.02.15</span>                \\n                        </div>\\n                      </div>\\n                    </li> \\n                    <li>     \\n                      <div class=\"media\">\\n                        <div class=\"media-left\">\\n                          <a class=\"news_img\" href=\"#\">\\n                          </a>\\n                        </div>\\n                        <div class=\"media-body\">\\n                         <a href=\"#\"> <br/>  Dummy text of the printing and typesetting industry</a>\\n                         <span class=\"feed_date\">28.02.15</span>          \\n                        </div>\\n                      </div>\\n                    </li>                                    \\n                  </ul>\\n                  \\n                </div>               \\n              </div>\\n              \\n            </div>\\n          </div>\\n       \\n                </div> <!--end thumbnail \\n\\t\\t\\t\\t\\n\\t\\t\\t\\t<div class=\"thumbnail\">\\n\\t\\t\\t\\t<center><b><H4><font color=\"#8B0000\">Recent Photo Gallery</font></H4></b></center>\\n\\t\\t\\t\\t\\n\\t\\t\\t\\t<ul>\\n\\t\\t\\t\\t<li><a href=\"\">Golden Jubilee Celebrations</a></li>\\n\\t\\t\\t\\t<li><a href=\"\">DREAM ENGLISH - TRAINING PROGRAMME ON ENGLISH LANGUAGE SKILLS FOR TEACHERS</a></li>\\n\\t\\t\\t\\t</ul>\\n\\t\\t\\t\\t<center>See All</center>\\n\\t\\t\\t\\t</div>\\n\\t\\t\\t\\t\\n\\t\\t\\t\\t\\n\\t\\t\\t\\t\\n              </div> --><!--end col -->\\n\\t\\t\\t\\t\\t\\n\\t\\t\\t\\t\\t\\n\\t\\t\\t\\t\\t\\n            </div><!--end hero -->\\n\\t\\t\\t\\n\\t\\t\\t <!--=========== BEGIN ABOUT US SECTION ================-->\\n\\t\\t\\t \\n\\t\\t\\t <style>\\n\\t\\t\\t \\n\\t\\t\\t \\n\\t\\t\\t .btn{\\n    color: #fff;\\n    text-transform: uppercase;\\n    border-radius: 0;\\n    padding-left: 60px;\\n    position: relative;\\n    transform: translateZ(0px);\\n    transition: all 0.5s ease 0s;\\n}\\n.btn:after{\\n    content: \"\";\\n    position: absolute;\\n    top: 0;\\n    left: 0;\\n    bottom: 0;\\n    right: 0;\\n    background: #fff;\\n    z-index: -1;\\n    transform: scaleX(0);\\n    transform-origin: 100% 50% 0;\\n    transition: all 0.5s ease-out 0s;\\n}\\n.btn:hover:after{\\n    transform: scaleX(1);\\n    transition-timing-function: cubic-bezier(0.52, 1.64, 0.37, 0.66);\\n}\\n.btn span{\\n    width: 40px;\\n    height: 100%;\\n    line-height: 40px;\\n    background: #fff;\\n    position: absolute;\\n    top: 0;\\n    left: 0;\\n    transition: all 0.3s linear 0s;\\n}\\n.btn span:after{\\n    content: \"\";\\n    display: block;\\n    width: 10px;\\n    height: 10px;\\n    background: #fff;\\n    margin: auto 0;\\n    position: absolute;\\n    top: 0;\\n    right: -6px;\\n    bottom: 0;\\n    transform: rotate(45deg);\\n    transition: all 0.3s linear 0s;\\n}\\n.btn.btn-sm{\\n    padding-left: 40px;\\n}\\n.btn.btn-sm span{\\n    width: 27px;\\n    line-height: 27px;\\n}\\n.btn.btn-sm span:after{\\n    width: 8px;\\n    height: 8px;\\n    right: -5px;\\n}\\n.btn.btn-xs{\\n    padding-left: 30px;\\n}\\n.btn.btn-xs span{\\n    width: 20px;\\n    line-height: 20px;\\n}\\n.btn.btn-xs span:after{\\n    width: 7px;\\n    height: 7px;\\n    right: -4px;\\n}\\n.btn.red{\\n    border: 1px solid #fe6d6d;\\n    background: #fe6d6d;\\n}\\n.btn.red:hover,\\n.btn.red span{\\n    color: #fe6d6d;\\n}\\n.btn.red:hover span,\\n.btn.red:hover span:after{\\n    background: #fe6d6d;\\n}\\n.btn.blue{\\n    border: 1px solid #3bb4e5;\\n    background: #3bb4e5;\\n}\\n.btn.blue:hover,\\n.btn.blue span{\\n    color: #3bb4e5;\\n}\\n.btn.blue:hover span,\\n.btn.blue:hover span:after{\\n    background: #3bb4e5;\\n}\\n.btn.orange{\\n    border: 1px solid #ee955b;\\n    background: #ee955b;\\n}\\n.btn.orange:hover,\\n.btn.orange span{\\n    color: #ee955b;\\n}\\n.btn.orange:hover span,\\n.btn.orange:hover span:after{\\n    background: #ee955b;\\n}\\n.btn.green{\\n    border: 1px solid #79d799;\\n    background: #79d799;\\n}\\n.btn.green:hover,\\n.btn.green span{\\n    color: #79d799;\\n}\\n.btn.green:hover span,\\n.btn.green:hover span:after{\\n    background: #79d799;\\n}\\n.btn:hover span{\\n    color: #fff;\\n}\\n@media only screen and (max-width: 767px){\\n    .btn{ margin-bottom: 20px; }\\n}\\n\\t\\t\\t<!--     .btn.outline {\\n\\tbackground: none;\\n\\tpadding: 12px 6px;\\n}\\n.btn-primary.outline {\\n\\tborder: 2px solid #0099cc;\\n\\tcolor: #0099cc;\\n}-->\\n\\t\\t\\t     \\n\\t\\t\\t     \\n\\t\\t\\t </style>\\n\\t\\t\\t \\n\\t\\t\\t \\n\\t\\t\\t <style>\\n    .btn1{\\n        \\n       \\n    text-transform: uppercase;\\n    color:#fff;\\n    box-shadow:none;\\n    transition: all 0.40s ease;\\n    -webkit-transition: all 0.40s ease;\\n    -moz-transition: all 0.40s ease;\\n    -ms-transition: all 0.40s ease;\\n    -o-transition: all 0.40s ease;\\n}\\n\\n.btn1.purple{\\n    background:#580141;\\n     width: 250px;\\n    height: 50px;\\n}\\n.btn1.purple:hover{\\n    color: #580141;\\n    background: transparent;\\n    box-shadow: 0 0 10px 0 #580141 inset, 0 0 10px 4px #580141;\\n}\\n    \\n    \\n</style>\\n\\n\\t\\t\\t <br/>\\n\\t\\t\\t \\n\\t\\t\\t <div class=\"container\">\\n\\t\\t\\t<div class=\"row\">\\n\\t\\t\\t    \\n\\t\\t\\t     <div class=\"col-sm-4\">\\n            <a href=\"http://bhc.edu.in/nirf2019.php\" class=\"btn btn-lg btn-block blue\">\\n                <span class=\"fa fa-star\"></span>NIRF 2019\\n            </a>\\n        </div> \\n\\t\\t\\t    \\n\\t\\t\\t    \\n\\t\\t\\t  <div class=\"col-sm-4\">\\n            <a href=\"http://bhc.edu.in/iqac/TNCOGN10113_Bishop_Heber_College_Tiruchirappalli_2017-2018.pdf\" class=\"btn btn-lg btn-block blue\">\\n                <span class=\"fa fa-star\"></span>AQAR 2017-2018\\n            </a>\\n        </div>\\n\\t\\t\\t    \\n        \\n        \\n       <!-- <div class=\"col-sm-3\">\\n            <a href=\"http://182.75.124.174:10095/(S(ot3icqzpxokrsnnsyh04z145))/online.aspx\" class=\"btn btn-lg btn-block blue\">\\n                <span class=\"fa fa-star\"></span>Hall Ticket- Apr 2019<img src=\"http://schoolreportcards.in/SRC-New/images/newgood.gif\" />\\n            </a>\\n        </div>-->\\n        \\n        \\n        <div class=\"col-sm-4\">\\n            <a href=\"extension.php\" class=\"btn btn-lg btn-block blue\" width=\"40%\">\\n                <span class=\"fa fa-home\"></span><font style=\"text-transform: capitalize;\">Extension Activities</font>\\n            </a>\\n        </div>\\n        \\n\\t\\t\\t  <!-- \\t<div class=\"col-md-3\">\\n\\t\\t\\t\\t\\t\\n\\t\\t\\t\\t\\t<button type=\"button\" width=\"500px\"  onclick=\"window.location.href=\\'nirf2018.php\\'\" class=\"btn btn-primary outline btn-lg btn-block\"><font color=\"red\" >NIRF 2018</font><img src=\"http://schoolreportcards.in/SRC-New/images/newgood.gif\" /></button>\\n\\t\\t\\t\\t\\t\\n\\t\\t\\t\\t\\t</div>\\n\\t\\t\\t\\t<div class=\"col-md-3\">\\n\\t\\t\\t\\t\\t\\n\\t\\t\\t\\t\\t<button type=\"button\" onclick=\"window.location.href=\\'http://bhc.edu.in/naac/TNCOGN10113_Bishop_Heber_College_Tiruchirappalli_2016-17.pdf\\'\" class=\"btn btn-primary outline btn-lg btn-block\"><font color=\"red\">AQAR 2016-2017</font></button>\\n\\t\\t\\t\\t\\t\\n\\t\\t\\t\\t\\t</div>\\n\\t\\t\\t\\t\\t\\n\\t\\t\\t\\t\\t<div class=\"col-md-3\">\\n\\t\\t\\t\\t\\t\\n\\t\\t\\t\\t\\t<button type=\"button\" width=\"500px\" class=\"btn btn-primary outline btn-lg btn-block\" \"><font color=\"red\">BHC Live</font> </button>\\n\\t\\t\\t\\t\\t\\n\\t\\t\\t\\t\\t</div>\\n\\t\\t\\t\\t\\t\\n\\t\\t\\t\\t\\n\\t\\t\\t\\t\\t\\n\\t\\t\\t\\t\\t<div class=\"col-md-3\">\\n\\t\\t\\t\\t\\t\\n\\t\\t\\t\\t\\t<button type=\"button\" onclick=\"window.location.href=\\'extension.php\\'\"width=\"500px\" class=\"btn btn-primary outline btn-lg btn-block\"><font color=\"red\">Extension Activities</font></button>\\n\\t\\t\\t\\t\\t\\n\\t\\t\\t\\t\\t</div>-->\\n\\t\\t\\t</div>\\n\\t\\t\\t\\n\\t\\t\\t</div>\\n\\t\\t\\t\\n\\t\\t\\t\\n\\t\\n   <div class=\"container\">\\n        <div class=\"row\">\\n        <!-- Start about us area -->\\n        <!-- col-lg-5 col-md-5-->\\n        <div class=\" col-sm-6\">\\n          <div class=\"aboutus_area wow fadeInLeft\">\\n            <h3 class=\"title\" style=\"text-transform: capitalize;\"><font color=\"#8B0000\">About Us</font></h3>\\n            <p align=\"justify\"><font size=\"3.95px\">Bishop Heber College is a Religious Minority Educational Institution established by the Tiruchirappalli \\xe2\\x80\\x93 Thanjavur Diocese of the Church of South India. Its main objective is to cater to the higher educational needs of the Christians and students of other from faiths and religions. The College offers UG, PG, M.Phil and Ph.D programmes under Aided and Self-Financed Sections without compromising the quality.</font></p>\\n          </div>\\n\\t\\t  \\n\\t\\t<br/>   <br/>  \\n\\n\\n <ul class=\"nav nav-tabs\" role=\"tablist\">\\n                    <li role=\"presentation\" class=\"active\"><a href=\"#Section4\" aria-controls=\"home\" role=\"tab\" data-toggle=\"tab\">Placement & Training</a></li>\\n                    <li role=\"presentation\"><a href=\"#Section5\" aria-controls=\"profile\" role=\"tab\" data-toggle=\"tab\">Part-V Clubs</a></li>\\n                    <li role=\"presentation\"><a href=\"#Section6\" aria-controls=\"messages\" role=\"tab\" data-toggle=\"tab\">Gallery</a></li>\\n                </ul>\\n                <!-- Tab panes -->\\n                <div class=\"tab-content\">\\n                    <div role=\"tabpanel\" class=\"tab-pane active\" id=\"Section4\">\\n                       <p align=\"justify\">Training & Placement Division Serves as the nodal point of contact between the granduands of our College and the employer agencies like the Corporate Sector/ Educational Institutions and the Banking & Accounting sectors and fetches students their dream jobs before they exit the campus. The student services centre of the college is a centre that helps honing the skills of the students and make them job- ready by organizing training sessions on Communication, Career Guidance and aptitude and technical skills required to meet the changing needs of the employment sector.The center houses a library which has a collection of books, journals, software to aid communication skills and study materials for competitive examinations and an exclusive training hall.</p>  \\n                    </div>\\n                    <div role=\"tabpanel\" class=\"tab-pane\" id=\"Section5\">\\n<font size=\"2\">\\n <div class=\"col-md-4\">\\n\\n            <p>1.\\tNCC (Army Wing)<br/>2.\\tNCC (Air Wing)<br/>\\n3.\\tNSS  (Girls) <br/>\\n4.\\tNSS (Boys)<br/>\\n5.\\tFine Arts Assn.\\t<br/>\\n6.\\tSports & Games<br/>\\n7.\\tRed Ribbon Club<br/> \\n8.\\tRotaract Club<br/>\\n9.\\tHeber Quiz Club<br/>\\n\\n      </div>\\n      \\n      <div class=\"col-md-4\">\\n\\n            <p>\\n                \\n                10.\\tConsumer Club <br/>\\n11.\\tDOE Club <br/>\\n12.Entrepreneur Devt. Cell <br/>\\n13.\\tGood Samaritan\\t<br/>\\n14.\\tJunior Jaycees \\t<br/>\\n15.\\tLEO Club \\t<br/>\\n16.\\tNature Club <br/>\\t\\n17.\\tStudent Exnora<br/>\\n18.\\tYouth Against Drugs<br/>\\n\\n            </p>\\n        \\n      </div>\\n      \\n      <div class=\"col-md-4\">\\n\\n            <p>19.\\tHuman Rights Club <br/>\\n20.\\tYouth Red Cross<br/>\\n21.\\tRoad safety Club <br/>\\n22.\\tSuicide Prevention Club <br/>\\n23.\\tGender Sensitization Club<br/>\\n24.\\tCommunication Club <br/>\\n25.\\tMovie Club<br/>\\n26.\\tAnti Corruption Club <br/>\\n27.\\tPhilately Club<br/>\\n</p>\\n        \\n      </div>\\n\\n</font>\\n                    </div>\\n                    <div role=\"tabpanel\" class=\"tab-pane\" id=\"Section6\">\\n                        \\n                        <div class=\"col-md-6\">\\n\\t\\t  <h4 style=\"text-transform: capitalize;\"><font color=\"#8B0000\">General Photos</font></h4>\\n\\n            <p><a href=\"http://bhc.edu.in/bhcweb/gal/college.php\">College Campus</a> <br/>\\n<a href=\"http://bhc.edu.in/bhcweb/gal/library.php\">Library</a><br/>\\n<a href=\"http://bhc.edu.in/bhcweb/gal/hostel.php\">Hostels</a> <br/>\\n\\n</p>\\n        \\n      </div>\\n                        \\n                    </div>\\n                </div>\\n\\n\\n\\n        </div>\\n        <div class=\"col-md-2\">\\n\\t\\t<br/>\\n\\t\\t   <h4 style=\"text-transform: capitalize;\"><font color=\"#8B0000\">College Facilities</font></h4>\\n            <p><a href=\"http://bhc.edu.in/library/index.php\">College Library</a><br/><a href=\"facilities.php#internet\">Internet Lab & Campus WiFi</a><br/><a href=\"facilities.php#internet\">Campus Wifi</a><br/><a href=\"HAIF/\">Heber Analytical Instrumentation Facility</a><br/><a href=\"facilities.php#ssc\">SSC</a><br/><a href=\"stud_counseller.php\">Student Counsellor</a><br/><a href=\"facilities.php#hospital\">Hospital</a><br/><a href=\"facilities.php#bank\">Bank/ATM Center</a></p>\\n        \\n      \\n\\t  \\n\\t\\t<br/>\\n\\t\\t      <h4 style=\"text-transform: capitalize;\"><font color=\"#8B0000\">Research</font></h4>\\n            <p><a href=\"research.php\">Deanary Of Research</a><Br/><Br/><a href=\"rd/MajorMinorProjectDetails.pdf\">Minor/Major Projects</a><br/>Research Project(Department-wise)<br/><a href=\"rd/rd_.pre18.pdf\"> Presentation Format 2018</a><br/><a href=\"rd/rd_pub18.pdf\">Publication Format 2018</a><br/></p>\\n\\t\\t\\t<br/>\\n\\t\\t\\t<h4 style=\"text-transform: capitalize;\" ><font color=\"#8B0000\">Rules & Regulations</font></h4>\\n            <p><a href=\"dis_rules.php\">College Disciplinary Rules</a><br/><a href=\"antiragging.php\">Anti-Ragging Committee</a><br/><a href=\"library/rules.php\">Library Rules</a><br/>Dress Code</p>\\n        \\n      </div>\\n\\t  <div class=\"col-md-2\">\\n\\t\\t<BR/>\\n\\t\\t\\n\\t\\t<!--<h4 align=\"center\" style=\"text-transform: capitalize; background-color: #CC0000;padding:15px 15px 15px 15px;\"><a href=\"extension.php\"><font color=\"#FFFFFF\">Extension Activities</font></a></h4>\\n\\t\\t  -->\\n\\t\\t  \\n\\t\\t  <h4 style=\"text-transform: capitalize;\"><font color=\"#8B0000\">Student Activities</font></h4>\\n            <p><a href=\"community.php\">Prayer Life</a></p><br/>\\n           \\n\\t\\t\\t <h4 style=\"text-transform: capitalize;\"><font color=\"#8B0000\">Online Service</font></h4>\\n            <p><a href=\"http://115.254.114.243:10092/(S(r0rqzs45yd4tvz45yle0yhfa))/Signin.aspx\">Attendance</a><br/>\\n            \\n            <a href=\"coe/result.php\">Result</a><br/> \\n            <a href=\"https://fees.bhc.edu.in\">Online Fees Payment</a><br/> \\n            \\n            \\n            </p>\\n      \\n\\t  \\n\\t  \\t  \\n\\t\\t<BR/>\\n\\t\\t  <h4 style=\"text-transform: capitalize;\"><font color=\"#8B0000\">Parents Corner</font></h4>\\n\\t\\t \\n\\n           <p><a href=\"#\">Campus Map</a><br/><a href=\"#\">Calender 2017-2018</a></p><br/>\\n            <h4 style=\"text-transform: capitalize;\"><font color=\"#8B0000\">Other Links</font></h4>\\n           <p><a target=\"_blank\" href=\"http://www.bdu.ac.in/\">Bharathidasan University</a><br/><a target=\"_blank\" href=\"http://www.ugc.ac.in/\">UGC</a><br/><a target=\"_blank\" href=\"http://www.ignou.ac.in/\">IGNOU</a></p>\\n      </div>\\n\\t  \\n\\n\\n\\n\\n<div class=\"col-md-2\">\\n\\t\\t<BR/>\\n\\t\\t  <h4 style=\"text-transform: capitalize;\"><font color=\"#8B0000\">Department - Arts</font></h4>\\n            <p><a href=\"commerce/\">Commerce</a><br/><a href=\"economics/\">Economics<br/><a href=\"english/\">English</a><br/><a href=\"history/\">History</a><br/><a href=\"management/\">Management Studies</a><br/><a href=\"sw/\">Social Work</a><br/><a href=\"tamil/\">Tamil</a></p><br/>\\n\\t\\t\\t </p>\\n      \\n\\n\\t  \\t  \\n\\t\\t\\n\\t\\t  <h4 style=\"text-transform: capitalize;\"><font color=\"#8B0000\">Department - Science</font></h4>\\n\\n                <p><a href=\"as/\">Actuarial Science</a><br/><a href=\"biotech/\">Biotechnology & Bioinformatics</a><br/><a href=\"botany/\">Botany<br/><a href=\"chemistry/\">Chemistry<br/><a href=\"ca/\">Computer Applications<br/><a href=\"cs/\">Computer Science<br/><a href=\"it/\">Information Technology</a><br/><a href=\"env/\">Environmental Science</a><br/><a href=\"lis/\">Library and Information Science</a><br/><a href=\"maths/\">Mathematics</a><br/><a href=\"physics/\">Physics</a><br/><a href=\"zoology/\">Zoology </a></p><br/>\\n\\t\\t\\t </p>\\n\\t\\t \\n\\n           \\n      </div>\\n\\t  \\n      </div>\\n    </section>\\n\\t\\n\\t\\n\\t\\n\\t\\t\\t\\n<br/><br/>\\n            \\n</div>\\n\\n<!--<div id=\"feedback\">\\n\\t\\t\\t<a href=\"#popup1\">Leave a Compliment</a>\\n\\t\\t</div>-->\\n<!--\\n\\n<div id=\"popup1\" class=\"overlay\">\\n\\t<div class=\"popup\">\\n    <div class=\"div1\" style=\"background:#fff\">\\n\\t\\t\\n\\t\\t<a class=\"close\" href=\"#\">\\xc3\\x97</a>\\n     \\n\\t\\t<div class=\"content\" id=\"quickenquire\">\\n        <h3 style=\"text-align:center\">Leave a Compliment</h3>\\n        <br/> <br/>\\n\\t\\t\\n\\t\\t\\n\\t\\t\\n\\t\\t <form method=\"post\" action=\"index.php\" class=\"form-horizontal\" enctype=\"multipart/form-data\" role=\"form\">\\n           <div class=\"form-group\">\\n               <label for=\"first_name\" class=\"control-label col-sm-5\">Name:</label>\\n            <div class=\"col-sm-6\">\\n                <input type=\"text\" class=\"form-control\" id=\"name\" name=\"name\">\\n            </div>\\n           </div>                    \\n                  \\n        <!--   <div class=\"form-group \">         \\n            <div class=\"col-sm-6 \">\\n             <label for=\"alumni\" class=\"col-sm-5 radio-inline\">\\n                <input type=\"radio\" id=\"categ\" name=\"categ\" value=\"Alumni\" onchange=\"enab()\"> Alumni \\n               </label>\\n                <label for=\"well_wisher\" class=\"col-sm-5 radio-inline\">\\n                <input type=\"radio\" id=\"categ\" name=\"categ\" value=\"Well Wisher\" onchange=\"enab()\">Well Wisher\\n               </label>\\n            </div>   \\n            </div>\\n                   \\n            <div class=\"form-group\"> \\n             <label for=\"batch\" class=\"control-label col-sm-5\">Batch:</label>\\n            <div class=\"col-sm-6 \">\\n             <input type=\"text\" class=\"form-control\" id=\"batch\" name=\"batch\"  value=\"\"> \\n            </div>\\n            </div>\\n             \\n             <div class=\"form-group\"> \\n             <label for=\"batch\" class=\"control-label col-sm-5\">Course:</label>\\n              <div class=\"col-sm-6 \">               \\n               <input type=\"text\" class=\"form-control\" id=\"course\" name=\"course\"  value=\"\">\\n             </div>   \\n            </div>\\n            \\n            <div class=\"form-group\">\\n             <label for=\"email\" class=\"control-label col-sm-5\">E-mail id:</label>\\n             <div class=\"col-sm-6\">\\n              <input type=\"text\" class=\"form-control\" id=\"email\" name=\"email\">\\n              \\n             </div>\\n            </div>\\n            <div class=\"form-group\">\\n           <label for=\"phone\" class=\"control-label col-sm-5\">Phone No.:</label>\\n             <div class=\"col-sm-6\">\\n             <input type=\"text\" class=\"form-control\" id=\"phone\" name=\"phone\">\\n           \\n             </div>\\n            </div>\\n            \\n           <div class=\"form-group\">\\n           <label for=\"comp\" class=\"control-label col-sm-5\">Compliments:</label>\\n           <div class=\"col-sm-6\">\\n               <textarea class=\"form-control\" id=\"comp\" name=\"comp\"></textarea>\\n             </div>\\n           </div>\\n           <div class=\"form-group\">\\n            <div class=\"col-sm-6 col-sm-offset-4\">\\n              <input class=\"btn btn-warning\"  id=\"register\" name=\"register\" type=\"submit\"  value=\"Register\"/>\\n            </div>\\n            </div>\\n              </form>\\n\\t\\t\\n\\t\\t\\n\\t\\t\\n\\t\\t\\n\\t\\t</div>\\n        </div>\\n        \\n        \\n         \\n        \\n\\t</div>\\n</div>\\n-->\\n\\n<style>\\n    \\n .overlay {\\n\\tposition: fixed;\\n\\ttop: 0;\\n\\tbottom: 0;\\n\\tleft: 0;\\n\\tright: 0;\\n\\tbackground: rgba(0, 0, 0, 0.7);\\n\\ttransition: opacity 500ms;\\n\\tvisibility: hidden;\\n\\topacity: 0;\\n}\\n.overlay:target {\\n\\tvisibility: visible;\\n\\topacity: 1;\\n}\\n.popup {\\n\\tmargin: 90px auto;\\n\\tpadding: 15px;\\n\\tborder-radius: 5px;\\n\\twidth: 49%;\\n\\tposition: absolute;\\n\\tleft: 35%;\\n\\t/* transition: all 5s ease-in-out; */\\n}\\n.popup h2 {\\n\\tmargin-top: 0;\\n\\tcolor: #333;\\n\\tfont-family: Tahoma, Arial, sans-serif;\\n}\\n.popup .close {\\n\\tposition: absolute;\\n\\ttop: 35px;\\n\\tleft: 25px;\\n\\tbackground: #00495d;\\n\\ttransition: all 200ms;\\n\\tfont-size: 30px;\\n\\tfont-weight: bold;\\n\\ttext-decoration: none;\\n\\tcolor: #fff;\\n\\tpadding: 0px 5px;\\n}\\n.search {\\n\\tposition: absolute;\\n\\ttop: 19px;\\n\\tleft: 45%;\\n\\t/* background: #ce00ff; */\\n\\ttransition: all 200ms;\\n\\tfont-size: 30px;\\n\\tfont-weight: bold;\\n\\ttext-decoration: none;\\n\\tcolor: #000;\\n\\tpadding: 0px 5px;\\n}\\n\\n.popup .close:hover {\\n\\tcolor: #ffffff;\\n}\\n.popup .content {/*\\tmax-height: 30%;\\n*/overflow: auto;border-top: 2px dashed #d1d6d8;margin-top: 16px;}\\n.div1 {\\n\\twidth: 100%;\\n\\tpadding: 40px;\\n\\t/* float: left; */\\n\\theight: auto;\\n\\tbackground:#fff;\\n\\tborder-radius: 25px;\\n}\\n\\n\\n.content h3 { text-align: center;\\n    margin: 15px 0 -1px 0;\\n    text-transform: uppercase;\\n    color: #00495d;\\n}\\n@media screen and (max-width: 1024px) {\\n.box {\\n\\twidth: 70%;\\n}\\n.popup {\\n\\twidth: 70%;\\n\\tleft:20%;\\n}\\n.div1 {\\n\\twidth: 70%;\\n\\tpadding: 20px;\\n\\tfloat: left;\\n}\\n\\n}\\n\\n/* sticky button */\\t\\n\\t\\n#feedback1 {\\n    height: 0px;\\n    width: 85px;\\n    position: fixed;\\n    right: 0;\\n    top: 40%;\\n    z-index: 1000;\\n    transform: rotate(-90deg);\\n    -webkit-transform: rotate(-90deg);\\n    -moz-transform: rotate(-90deg);\\n    -o-transform: rotate(-90deg);\\n    filter: progid:DXImageTransform.Microsoft.BasicImage(rotation=3);\\n}\\n\\n#feedback1 a {\\n\\tdisplay: block;\\n\\tbackground:url(pc.png) no-repeat;\\n\\theight: 52px;\\n\\twidth: 155px;\\t\\n\\tcolor: #fff;\\n\\tfont-family: Arial, sans-serif;\\n\\tfont-size: 17px;\\n\\tfont-weight: bold;\\n\\ttext-decoration: none;\\n\\n}\\n#feedback1 a:hover {\\n\\tbackground:url(pc-over.png) no-repeat;\\n}\\n\\n#feedback {\\n\\theight: 0px;\\n\\twidth: 85px;\\n\\tposition: fixed;\\n\\tright: 0;\\n\\ttop: 50%;\\n\\tz-index: 1000;\\n\\ttransform: rotate(-90deg);\\n\\t-webkit-transform: rotate(-90deg);\\n\\t-moz-transform: rotate(-90deg);\\n\\t-o-transform: rotate(-90deg);\\n\\tfilter: progid:DXImageTransform.Microsoft.BasicImage(rotation=3);\\n}\\n#feedback a {\\n\\tdisplay: block;\\n\\tbackground:#000;\\n\\theight: 52px;\\n\\tpadding-top: 10px;\\n\\twidth: 205px;\\n\\ttext-align: center;\\n\\tcolor: #fff;\\n\\tfont-family: Arial, sans-serif;\\n\\tfont-size: 17px;\\n\\tfont-weight: bold;\\n\\ttext-decoration: none;\\n}\\n#feedback a:hover {\\n\\tbackground:#00495d;\\n}\\n\\n/* enquiry form */\\t\\n\\t\\t\\n#quickenquire input[type=text], input[type=email], textarea, select {\\n\\twidth: 100%;\\n\\tpadding: 5px 15px;\\n\\tmargin: 8px 0;\\n\\tdisplay: inline-block;\\n\\tborder: 1px solid #ccc;\\n\\tborder-radius: 4px;\\n\\tbox-sizing: border-box;\\n}\\n\\n\\n#quickenquire label {\\n\\tfont-size: 12px;\\n\\tfont-weight: bold;\\n\\ttext-transform: uppercase;\\n\\tpadding: 0px!important;\\n\\tmargin: 0px!important;\\n}\\n#quickenquire  input[type=submit] {\\n    width: 100%;\\n    background-color: #00495d;\\n    color: white;\\n    text-transform: uppercase;\\n    font-weight: bold;\\n    letter-spacing: 2px;\\n    padding: 7px 20px;\\n    border: none;\\n    border-radius: 4px;\\n    cursor: pointer;\\n}\\n\\n#quickenquire  input[type=submit]:hover {\\n    background-color: #000000;\\n}   \\n    \\n</style>\\n\\n\\n\\n<footer id=\"footer\">\\n <div id=\"footer\">     <!-- Start footer top area -->\\n      <div class=\"footer_top\">\\n        <div class=\"container\">\\n          <div class=\"row\">\\n            <div class=\"col-ld-3  col-md-3 col-sm-3\">\\n              <div class=\"single_footer_widget\">\\n              <br/>\\n                <iframe width=\"280\" height=\"180\" src=\"https://www.youtube.com/embed/i2YCQqjPOYc\" frameborder=\"0\" allowfullscreen></iframe>\\n              </div>\\n            </div>\\n            <div class=\"col-ld-3  col-md-4 col-sm-3\">\\n              <div class=\"single_footer_widget\">\\n\\t\\t\\t  <h3><font color=\"#ffffff\">Our Vision</font></h3>\\n\\n<p align=\"justify\"><font color=\"#ffffff\">Bishop Heber College, A great Institution of higher education set in beautiful surroundings, seeks to function through mutual love and respect and with efficiency and creativity, catering to the educational needs of all, especially the poor, the needy and the under-privileged, inspired by the love of our Lord Jesus Christ.<L/font><Br/><center>Developed by <a href=\"http://bhc.edu.in/IT_Support/index.html\"><font color=\"#fff\">IT Support, BHC.</font></a></center></p>\\n              <!--  <h3><font color=\"#ffffff\">Important</font></h3>\\n                <ul class=\"footer_widget_nav\" style=\"color: #ff7225;\" >\\n                  <li><a href=\"#\"><font color=\"#FFFFFF\">Department</font></a></li>\\n                  <li><a href=\"#\"><font color=\"#FFFFFF\">Library</font></a></li>\\n                  <li><a href=\"#\"><font color=\"#FFFFFF\">Results</font></a></li>\\n                  <li><a href=\"#\"><font color=\"#FFFFFF\">IT Support</font></a></li>\\n                  <li><a href=\"#\"><font color=\"#FFFFFF\">Media & Press</font></a></li>\\n                </ul>-->\\n              </div>\\n              \\t  <Br/>    <Br/>\\t  <Br/>    <Br/>\\n            </div>\\n            <div class=\"col-ld-3  col-md-2 col-sm-3\"><br/>\\n            <div class=\"single_footer_widget\">\\n\\t\\t\\t  <h3><font color=\"#ffffff\">Contact Us</font></h3>\\n      <font color=\"#FFFFFF\"><div style=\"color:#000\">Bishop Heber College<br/>\\nPost Box No. 615,<br/>\\nTiruchirappalli - 620 017<br/>\\nTamil Nadu, South India.<br/>\\nPh: 0431 - 2770136/2770158<br/>\\nFax : 0431 - 2770293<br/>\\nE-mail : principal@bhc.edu.in</font>\\n               \\n              </div>\\n            </div>\\n\\t\\t\\n              \\n            </div>\\n            <div class=\"col-ld-3  col-md-3 col-sm-3\">\\n                <br/><br/>\\n                \\n                \\t<img src=\"img/qrcode.png\" width=\"180px\" height=\"180px\">\\n              \\n          </div>\\n        </div>\\n      </div>\\n      <!-- End footer top area -->\\n\\n      <!-- Start footer bottom area -->\\n    \\n      <!-- End footer bottom area -->\\n\\t  </div>\\n\\n    </footer>\\n    \\n\\n <footer>\\n    <br/><br/><br/>\\n <div class=\"navbar navbar-inverse navbar-fixed-bottom\" style=\"background-color: #bfd0f7;\\n    border-color: #e02200;\">\\n      <div class=\"container\">\\n            \\n           \\n            \\n            <br/>\\n            \\n         <div class=\"container\">\\n                \\n                \\n                <div class=\"row\">\\n            <!--        <div class=\"col-md-12\"><center><strong><font size=\"3\" color=\"blue\">&nbsp;&nbsp;\\n\\n     <a href=\"https://docs.google.com/forms/d/e/1FAIpQLSdz1HC2CpdysKcHhsHBeZsy9-TdRrY8wlmmbrW49WdSOVLPlQ/viewform\" target=\"_blank\"><font size=\"3\" color=\"blue\"> DBT Sponsored Two-day student Workshop - \\xe2\\x80\\x9cIGNITE\\xe2\\x80\\x9d </font> </a></center></strong> \\n</div> -->\\n\\n\\n\\n\\n\\n\\n<!--<div class=\"col-md-12\"><center><strong><font size=\"3\" color=\"black\">&nbsp;&nbsp;<font size=\"3\" color=\"red\">I Internal Test : August 2019</font> <a href=\"http://bhc.edu.in/coe/timetable.php\">- Timetable  </a> |<a href=\"http://seating.bhc.edu.in\"> Seating Arrangement</a></strong>  <img src=\"http://schoolreportcards.in/SRC-New/images/newgood.gif\"> <Br/></div>-->\\n\\n<div class=\"col-md-12\"><center><strong><font size=\"3\" color=\"black\">&nbsp;&nbsp;<font size=\"3\" color=\"red\"><a href=\"http://182.75.124.174:10062\">Click here to apply for convocation 2019 pass out</a></font>   <img src=\"http://schoolreportcards.in/SRC-New/images/newgood.gif\"> <Br/></div>\\n\\n                                                    <div class=\"col-md-12\"><center><strong><font size=\"3\" color=\"black\">&nbsp;&nbsp;<font size=\"3\" color=\"red\">Attention! - II,III Year UG and PG Fees Payment Gateway </font> <a href=\"http://fees.bhc.edu.in\"> Click here to pay </a>  </font></strong></center>    \\n\\n                                                  <!--  <div class=\"col-md-12\"><center><strong><font size=\"3\" color=\"black\">&nbsp;&nbsp;<font size=\"3\" color=\"red\">End Semester Examination April 2019- </font> <a href=\"http://bhc.edu.in/coe/result.php\"> Results(UG(I,II,III Year),UG Arrear,PG(I,II,III Year),PG Arrear) </a> | <a href=\"http://bhc.edu.in/coe/result_partv.php\">Part V Result 2019</a> </font></strong></center>    \\n-->\\n                    <!--     <div class=\"col-md-12\"><center><strong><font size=\"3\" color=\"black\">&nbsp;&nbsp;<font size=\"3\" color=\"red\">II Internal Test April 2019:</font> <a href=\"http://bhc.edu.in/coe/timetable.php\">- Timetable </a> |  <a href=\"http://bhc.edu.in/coe/seating.php\">Seating Arrangement  </a>  </font> </center> </strong>   \\n                     -->    \\n                         \\n\\n\\n<!-- <font size=\"3\" color=\"red\">Supplementary Examination Time Table June 2019: <a href=\"http://bhc.edu.in/coe/newscontent/UG_Supp_June_2019.pdf\">UG</a> | <a href=\"http://bhc.edu.in/coe/newscontent/PG_Supp_June_2019.pdf\">PG</a></font> --> \\n\\n\\n            <!-- <div class=\"col-md-12\"><center><strong><font size=\"3\" color=\"black\">&nbsp;&nbsp;<font size=\"3\" color=\"red\">Department of English: Lit hit \\'19</font> <a href=\"https://youtu.be/LouAcc3-IaI\">- Promo Video  </a>  |  <a href=\"http://bhc.edu.in/english/news_content/lithit_registration19.pdf\"> Registration Form </a> |  <a href=\"http://bhc.edu.in/english/news_content/pp_registration_form19.pdf\"> Paper Presentation Registration Form </a> | |  <a href=\"http://bhc.edu.in/english/lithit.php\"> View Full Details </a>    </font></font></a></center> </strong>    <Br/></div>\\n\\n             <!--<div class=\"col-md-12\"><center><strong><font size=\"3\" color=\"black\">&nbsp;&nbsp;<font size=\"3\" color=\"red\">End Semester Examination:</font> <a href=\"http://bhc.edu.in/coe/timetable.php\">- Timetable  </a>  |  <a href=\"http://bhc.edu.in/coe/seating.php\">Seating Arrangement  </a>  </font></font></a></center> </strong>    <Br/></div>-->\\n                        <!--  <div class=\"col-md-12\"><center><strong><font size=\"3\" color=\"black\">&nbsp;&nbsp;<font size=\"3\" color=\"red\">I Internal Test August 2018:</font> <a href=\"http://bhc.edu.in/coe/timetable.php\">- Timetable </a> |  <a href=\"http://bhc.edu.in/coe/seating.php\">Seating Arrangement  </a>  </font> </center> </strong>    <Br/></div>\\n                            \\n                            <!--<div class=\"col-md-12\"><center><strong><font size=\"3\" color=\"black\">&nbsp;&nbsp;<font size=\"3\" color=\"red\"> Achiever\\'s Day Live Stream</font> <a href=\"http://bhc.watch\">- Watch</a>  </font></strong></center>     <Br/></div>\\n                       \\n<div class=\"col-md-12\"><center><strong><font size=\"3\" color=\"black\">&nbsp;&nbsp;<font size=\"3\" color=\"red\">M.Phil. Programme Time Table 2019:</font> <a href=\"http://bhc.edu.in/coe/timetable_mphil.php\">- Timetable  </a>  </strong>    <Br/></div>\\n\\n<div class=\"col-md-12\"><center><strong><font size=\"3\" color=\"black\">&nbsp;&nbsp;<font size=\"3\" color=\"red\">I Internal Test : Feburary 2019</font> <a href=\"http://bhc.edu.in/coe/timetable.php\">- Timetable  </a>|  <a href=\"http://bhc.edu.in/coe/seating.php\">- Seating Arrangement  </a> </strong>  <img src=\"http://schoolreportcards.in/SRC-New/images/newgood.gif\">   <Br/></div>-->\\n\\n</div>\\n               \\n                \\n        \\n          \\n        </div>\\n    </div>\\n</footer>\\n\\n\\n<div class=\"modal fade\" id=\"deleteProductModal\" tabindex=\"-1\" role=\"dialog\" aria-labelledby=\"deleteProductModalLabel\" aria-hidden=\"true\">\\n  <div class=\"modal-dialog\">\\n    <div class=\"modal-content\">\\n     <div class=\"modal-header\">\\n        <button type=\"button\" class=\"close\" data-dismiss=\"modal\" aria-label=\"Close\"><span aria-hidden=\"true\">\\xc3\\x97</span></button>\\n        <center><button type=\"button\" class=\"btn btn-outline btn-sm\" class=\"close\" data-dismiss=\"modal\" >Close Poster</button></center>\\n      </div>\\n      <div class=\"modal-body\">\\n        <center><img src=\"english/news_content/lithit.jpg\" width=\"90%\" /></center>\\n      </div>\\n      <div class=\"modal-footer\">\\n        \\n             \\n      </div>\\n    </div>\\n  </div>\\n</div>\\n\\n<script>\\n    $(document).ready(function () {\\n\\t$(\\'#deleteProductModal\\').on(\\'show.bs.modal\\', function (event) { // id of the modal with event\\n\\t  var button = $(event.relatedTarget) // Button that triggered the modal\\n\\t  var productid = button.data(\\'productid\\') // Extract info from data-* attributes\\n\\t  var productname = button.data(\\'productname\\')\\n\\t  \\n\\t  var title = \\'Confirm Delete #\\' + productid\\n\\t  var content = \\'Are you sure want to delete \\' + productname + \\'?\\'\\n\\t  var content1 = \\'<label for=\"message-text\" class=\"form-control-label\">Work Order:</label><textarea class=\"form-control\" id=\"message-text\"></textarea>\\';\\n\\t  \\n\\t  // Update the modal\\'s content.\\n\\t  var modal = $(this)\\n\\t  modal.find(\\'.modal-title\\').text(title)\\n\\t  modal.find(\\'.modal-body\\').html(content1)\\t  \\n\\t  \\n\\t  // And if you wish to pass the productid to modal\\'s \\'Yes\\' button for further processing\\n\\t  modal.find(\\'button.btn-danger\\').val(productid)\\n\\t})\\n})\\n    \\n</script>\\n\\n<style>\\n    .modal-dialog {\\n    margin: -20vh auto 0px auto\\n}\\n\\n.modal-header {\\n   background:#fff;\\n}\\n</style>\\n    <!--=========== END FOOTER SECTION ================--> \\n<style>\\n.footer_top {\\n    float: left;\\n    display: inline;\\n    width: 100%;\\n    background-color: #013e6a;\\n}\\n.footer {\\n  \\n    \\n    \\n}\\n</style>\\n\\n \\n      \\n\\t\\t\\n\\t\\n\\t\\t\\n    </body>\\n    \\n   <!-- <script src=\"https://static.codepen.io/assets/common/browser_support-0ab6e31a44b7e657c5ebbaad9717fce66bb703358486f63d341b88773de0ecd1.js\"></script>\\n  <script src=\"https://static.codepen.io/assets/common/everypage-7ab3228aa8ecd60d1002c56f17425e6ca21e3bafd88ef5ea0987969d40ac4003.js\"></script>\\n\\n  <script src=\"https://static.codepen.io/assets/packs/common-vendors-564e8464841a890c1763.js\"></script>\\n  <script src=\"https://static.codepen.io/assets/packs/everypage-2e56e7633e4b4fbd48e5.js\"></script>\\n\\n<script async src=\"//js.honeybadger.io/v0.4/honeybadger.min.js\" type=\"text/javascript\"></script>\\n\\n\\n\\n    <script src=\"https://static.codepen.io/assets/editor/global/commonLibs-5aa21c051f554186721dfb2e22efa0262d769cfc8be7ee60a1c6e0e44c2bcd81.js\"></script>\\n<script src=\"https://static.codepen.io/assets/editor/global/codemirror-98ed251cac422e2e355a36e89599dd03d183843165b5c946a887f46aeb554740.js\"></script>\\n\\n\\n  <script src=\"https://static.codepen.io/assets/editor/pen/index-a28ec150c12963a71ae41173ae68ec59c6ceb1ec7015c8c83e80ad1c8deb89ff.js\"></script>\\n\\n-->\\n\\n</html>\\n\\n\\n\\n\\n\\n\\n'\n"
     ]
    }
   ],
   "source": [
    "import urllib.request\n",
    "with urllib.request.urlopen('http://www.bhc.edu.in') as response:\n",
    "    htmldata =  response.read()\n",
    "\n",
    "print(htmldata)"
   ]
  },
  {
   "cell_type": "code",
   "execution_count": 3,
   "metadata": {},
   "outputs": [],
   "source": [
    "with open(\"jai.txt\",\"w\")as f:\n",
    "    f.write(\"aaa@gmail.com\\n\")\n",
    "    f.write(\"aaa@yahoo.edu\\n\")\n",
    "    f.write(\"sss@outlook.edu\\n\")\n",
    "    f.write(\"#sgg@outlook.edu\\n\")\n",
    "        "
   ]
  },
  {
   "cell_type": "code",
   "execution_count": 4,
   "metadata": {},
   "outputs": [
    {
     "name": "stdout",
     "output_type": "stream",
     "text": [
      "aaa@gmail.com\n",
      "\n",
      "aaa@yahoo.edu\n",
      "\n",
      "sss@outlook.edu\n",
      "\n"
     ]
    }
   ],
   "source": [
    "with open(\"jai.txt\") as f:\n",
    "    for line in f:\n",
    "        if not line.startswith(\"#\"):\n",
    "            print(line)\n",
    "    "
   ]
  },
  {
   "cell_type": "code",
   "execution_count": 5,
   "metadata": {},
   "outputs": [
    {
     "name": "stdout",
     "output_type": "stream",
     "text": [
      "sss@outlook.edu\n",
      "\n",
      "#sgg@outlook.edu\n",
      "\n"
     ]
    }
   ],
   "source": [
    "with open(\"jai.txt\",\"r\")as f:\n",
    "    for line in f:\n",
    "        if line.find('outlook.edu')==-1:\n",
    "            continue\n",
    "        print(line)\n"
   ]
  }
 ],
 "metadata": {
  "kernelspec": {
   "display_name": "Python 3",
   "language": "python",
   "name": "python3"
  },
  "language_info": {
   "codemirror_mode": {
    "name": "ipython",
    "version": 3
   },
   "file_extension": ".py",
   "mimetype": "text/x-python",
   "name": "python",
   "nbconvert_exporter": "python",
   "pygments_lexer": "ipython3",
   "version": "3.6.5"
  }
 },
 "nbformat": 4,
 "nbformat_minor": 2
}
