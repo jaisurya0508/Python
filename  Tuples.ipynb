{
 "cells": [
  {
   "cell_type": "markdown",
   "metadata": {},
   "source": [
    "# Lecture-8 Tuples"
   ]
  },
  {
   "cell_type": "markdown",
   "metadata": {},
   "source": [
    "Used to group data"
   ]
  },
  {
   "cell_type": "markdown",
   "metadata": {},
   "source": [
    "### Tuple assignment or packing"
   ]
  },
  {
   "cell_type": "code",
   "execution_count": 1,
   "metadata": {},
   "outputs": [],
   "source": [
    "student = (1, 'Jaisurya', 'Trichy')"
   ]
  },
  {
   "cell_type": "code",
   "execution_count": 2,
   "metadata": {},
   "outputs": [
    {
     "name": "stdout",
     "output_type": "stream",
     "text": [
      "(1, 'Jaisurya', 'Trichy')\n"
     ]
    }
   ],
   "source": [
    "print(student)"
   ]
  },
  {
   "cell_type": "code",
   "execution_count": 3,
   "metadata": {
    "scrolled": true
   },
   "outputs": [
    {
     "name": "stdout",
     "output_type": "stream",
     "text": [
      "Jaisurya\n"
     ]
    }
   ],
   "source": [
    "# indexed by integer value\n",
    "print(student[1])"
   ]
  },
  {
   "cell_type": "markdown",
   "metadata": {},
   "source": [
    "### Immutable, you cannot modify"
   ]
  },
  {
   "cell_type": "code",
   "execution_count": 13,
   "metadata": {},
   "outputs": [
    {
     "ename": "TypeError",
     "evalue": "'tuple' object does not support item assignment",
     "output_type": "error",
     "traceback": [
      "\u001b[1;31m---------------------------------------------------------------------------\u001b[0m",
      "\u001b[1;31mTypeError\u001b[0m                                 Traceback (most recent call last)",
      "\u001b[1;32m<ipython-input-13-0cdc5a656c19>\u001b[0m in \u001b[0;36m<module>\u001b[1;34m()\u001b[0m\n\u001b[1;32m----> 1\u001b[1;33m \u001b[0mstudent\u001b[0m\u001b[1;33m[\u001b[0m\u001b[1;36m2\u001b[0m\u001b[1;33m]\u001b[0m\u001b[1;33m=\u001b[0m\u001b[1;34m'jai'\u001b[0m\u001b[1;33m\u001b[0m\u001b[0m\n\u001b[0m",
      "\u001b[1;31mTypeError\u001b[0m: 'tuple' object does not support item assignment"
     ]
    }
   ],
   "source": [
    "student[2]='jai'"
   ]
  },
  {
   "cell_type": "code",
   "execution_count": 14,
   "metadata": {},
   "outputs": [],
   "source": [
    "pgstudent = () #empty tuple"
   ]
  },
  {
   "cell_type": "code",
   "execution_count": 15,
   "metadata": {},
   "outputs": [
    {
     "name": "stdout",
     "output_type": "stream",
     "text": [
      "(38, 35, 36)\n"
     ]
    }
   ],
   "source": [
    "temperatures = (40, 39, 40, 38, 35, 36, 41)\n",
    "#slice it\n",
    "wed_fri = temperatures[3:6]\n",
    "print(wed_fri)"
   ]
  },
  {
   "cell_type": "markdown",
   "metadata": {},
   "source": [
    "### Tuple Unpacking"
   ]
  },
  {
   "cell_type": "code",
   "execution_count": 16,
   "metadata": {},
   "outputs": [],
   "source": [
    "(rollno, name, city) = student #equalant to multiple assignment statements"
   ]
  },
  {
   "cell_type": "code",
   "execution_count": 8,
   "metadata": {},
   "outputs": [
    {
     "name": "stdout",
     "output_type": "stream",
     "text": [
      "Roll No:  1  Name:  Peter  City:  Trichy\n"
     ]
    }
   ],
   "source": [
    "print('Roll No: ', rollno, ' Name: ', name, ' City: ', city)"
   ]
  },
  {
   "cell_type": "code",
   "execution_count": 11,
   "metadata": {},
   "outputs": [
    {
     "name": "stdout",
     "output_type": "stream",
     "text": [
      "20 10\n"
     ]
    }
   ],
   "source": [
    "# swapping values of two variables\n",
    "a = 10\n",
    "b = 20\n",
    "(a, b) = (b, a)\n",
    "# a, b = b, a\n",
    "print(a, b)"
   ]
  },
  {
   "cell_type": "markdown",
   "metadata": {},
   "source": [
    "### Tuples can return multiple values"
   ]
  },
  {
   "cell_type": "code",
   "execution_count": 19,
   "metadata": {},
   "outputs": [],
   "source": [
    "import math\n",
    "\n",
    "def circle_stats(r):\n",
    "    \"\"\" Return (circumference, area) of a circle of radius r \"\"\"\n",
    "    circumference = 2 * math.pi * r\n",
    "    area = math.pi * r * r\n",
    "    return (circumference, area)"
   ]
  },
  {
   "cell_type": "code",
   "execution_count": 23,
   "metadata": {},
   "outputs": [
    {
     "name": "stdout",
     "output_type": "stream",
     "text": [
      "Circumference: 31.416 Area: 78.540\n"
     ]
    }
   ],
   "source": [
    "# call it\n",
    "radius = 5.0\n",
    "(c, a) = circle_stats(radius)\n",
    "print('Circumference: %.3f Area: %.3f' %(c,a))"
   ]
  },
  {
   "cell_type": "markdown",
   "metadata": {},
   "source": [
    "### Tuple items can be tuples too"
   ]
  },
  {
   "cell_type": "code",
   "execution_count": 24,
   "metadata": {},
   "outputs": [],
   "source": [
    "student = (1, 'Tom', (85, 90, 95))"
   ]
  },
  {
   "cell_type": "code",
   "execution_count": 25,
   "metadata": {
    "scrolled": true
   },
   "outputs": [
    {
     "name": "stdout",
     "output_type": "stream",
     "text": [
      "(85, 90, 95)\n",
      "3\n"
     ]
    }
   ],
   "source": [
    "print(student[2])\n",
    "print(len(student))"
   ]
  },
  {
   "cell_type": "code",
   "execution_count": 26,
   "metadata": {},
   "outputs": [
    {
     "name": "stdout",
     "output_type": "stream",
     "text": [
      "90\n"
     ]
    }
   ],
   "source": [
    "print(student[2][1])"
   ]
  },
  {
   "cell_type": "markdown",
   "metadata": {},
   "source": [
    "### function to find average marks"
   ]
  },
  {
   "cell_type": "code",
   "execution_count": 27,
   "metadata": {},
   "outputs": [],
   "source": [
    "def stud_avg(student):\n",
    "    \n",
    "    #unpack it\n",
    "    roll, name, marks = student\n",
    "    m1, m2, m3 = marks\n",
    "    \n",
    "    avg = (m1+ m2 + m3)/3\n",
    "    print(\"Roll No: \", roll, ' Name:', name, ' Average: ', avg)\n"
   ]
  },
  {
   "cell_type": "code",
   "execution_count": 28,
   "metadata": {},
   "outputs": [
    {
     "name": "stdout",
     "output_type": "stream",
     "text": [
      "Roll No:  1  Name: Sam  Average:  90.0\n"
     ]
    }
   ],
   "source": [
    "# call it\n",
    "stud = (1, 'Sam', (85, 90, 95)) \n",
    "stud_avg(stud)"
   ]
  },
  {
   "cell_type": "markdown",
   "metadata": {},
   "source": [
    "### Tuple item can be a list"
   ]
  },
  {
   "cell_type": "code",
   "execution_count": 29,
   "metadata": {},
   "outputs": [],
   "source": [
    "student = (1, 'Rex', [85, 90, 95])"
   ]
  },
  {
   "cell_type": "code",
   "execution_count": 30,
   "metadata": {},
   "outputs": [
    {
     "name": "stdout",
     "output_type": "stream",
     "text": [
      "(1, 'Rex', [85, 90, 95])\n"
     ]
    }
   ],
   "source": [
    "print(student)"
   ]
  },
  {
   "cell_type": "code",
   "execution_count": 32,
   "metadata": {},
   "outputs": [
    {
     "data": {
      "text/plain": [
       "3"
      ]
     },
     "execution_count": 32,
     "metadata": {},
     "output_type": "execute_result"
    }
   ],
   "source": [
    "len(student)"
   ]
  },
  {
   "cell_type": "code",
   "execution_count": 34,
   "metadata": {},
   "outputs": [
    {
     "data": {
      "text/plain": [
       "95"
      ]
     },
     "execution_count": 34,
     "metadata": {},
     "output_type": "execute_result"
    }
   ],
   "source": [
    "student[2][2]"
   ]
  },
  {
   "cell_type": "markdown",
   "metadata": {},
   "source": [
    "#### Unpack a list"
   ]
  },
  {
   "cell_type": "code",
   "execution_count": 54,
   "metadata": {},
   "outputs": [
    {
     "name": "stdout",
     "output_type": "stream",
     "text": [
      "10 25 75\n"
     ]
    }
   ],
   "source": [
    "lst = [10,25,75]\n",
    "m1, m2, m3 = lst # brackets are optional\n",
    "print(m1, m2, m3)"
   ]
  },
  {
   "cell_type": "markdown",
   "metadata": {},
   "source": [
    "### Modify stud_avg() to find average for the student tuple"
   ]
  },
  {
   "cell_type": "code",
   "execution_count": 43,
   "metadata": {},
   "outputs": [],
   "source": [
    "def stud_avg2(student):\n",
    "    \n",
    "    #unpack it\n",
    "    roll, name, marks = student\n",
    "\n",
    "    total = 0\n",
    "    for mark in marks:\n",
    "        total += mark\n",
    "    \n",
    "    avg = total / len(marks)\n",
    "    print(\"Roll No: \", roll, ' Name:', name, ' Average: ', avg)"
   ]
  },
  {
   "cell_type": "code",
   "execution_count": 44,
   "metadata": {},
   "outputs": [
    {
     "name": "stdout",
     "output_type": "stream",
     "text": [
      "Roll No:  1  Name: Rita  Average:  90.0\n"
     ]
    }
   ],
   "source": [
    "# call it\n",
    "student = (1, 'Rita', [85, 90, 95])\n",
    "stud_avg2(student)"
   ]
  },
  {
   "cell_type": "code",
   "execution_count": 45,
   "metadata": {},
   "outputs": [
    {
     "name": "stdout",
     "output_type": "stream",
     "text": [
      "Roll No:  2  Name: Sweeta  Average:  85.0\n"
     ]
    }
   ],
   "source": [
    "# with many marks\n",
    "stud2 = (2, 'Sweeta', [85, 90, 95, 80, 75])\n",
    "stud_avg2(stud2)"
   ]
  },
  {
   "cell_type": "markdown",
   "metadata": {},
   "source": [
    "### You can create list of students"
   ]
  },
  {
   "cell_type": "code",
   "execution_count": 46,
   "metadata": {},
   "outputs": [],
   "source": [
    "students_list = [(1, 'Rita', [85, 90, 95]), \n",
    "                 (2, 'Sweeta', [85, 90, 95, 80, 75]),\n",
    "                 (3, 'Annette', [50, 60, 70, 80])]"
   ]
  },
  {
   "cell_type": "code",
   "execution_count": 40,
   "metadata": {},
   "outputs": [
    {
     "name": "stdout",
     "output_type": "stream",
     "text": [
      "[(1, 'Rita', [85, 90, 95]), (2, 'Sweeta', [85, 90, 95, 80, 75]), (3, 'Annette', [50, 60, 70, 80])]\n"
     ]
    }
   ],
   "source": [
    "print(students_list)"
   ]
  },
  {
   "cell_type": "markdown",
   "metadata": {},
   "source": [
    "### Modify stud_avg2() to process the list of students"
   ]
  },
  {
   "cell_type": "code",
   "execution_count": 48,
   "metadata": {},
   "outputs": [],
   "source": [
    "def stud_avg3(students):\n",
    "    ''' student is the list of tuples'''\n",
    "    \n",
    "    for student in students:\n",
    "        \n",
    "        #unpack it\n",
    "        roll, name, marks = student\n",
    "        \n",
    "        total = 0\n",
    "        for mark in marks:\n",
    "            total += mark    \n",
    "            \n",
    "        avg = total / len(marks)\n",
    "        print(\"Roll No: \", roll, ' Name:', name, ' Average: ', avg)\n"
   ]
  },
  {
   "cell_type": "code",
   "execution_count": 50,
   "metadata": {},
   "outputs": [
    {
     "name": "stdout",
     "output_type": "stream",
     "text": [
      "Roll No:  1  Name: Rita  Average:  90.0\n",
      "Roll No:  2  Name: Sweeta  Average:  85.0\n",
      "Roll No:  3  Name: Annette  Average:  65.0\n"
     ]
    }
   ],
   "source": [
    "#call it\n",
    "stud_avg3(students_list)"
   ]
  },
  {
   "cell_type": "markdown",
   "metadata": {},
   "source": [
    "### Comparing tuples"
   ]
  },
  {
   "cell_type": "code",
   "execution_count": 51,
   "metadata": {},
   "outputs": [
    {
     "data": {
      "text/plain": [
       "True"
      ]
     },
     "execution_count": 51,
     "metadata": {},
     "output_type": "execute_result"
    }
   ],
   "source": [
    "(0, 1, 2) < (0, 3, 4)"
   ]
  },
  {
   "cell_type": "code",
   "execution_count": 52,
   "metadata": {},
   "outputs": [
    {
     "data": {
      "text/plain": [
       "False"
      ]
     },
     "execution_count": 52,
     "metadata": {},
     "output_type": "execute_result"
    }
   ],
   "source": [
    "(0, 10, 2) < (0, 3, 4)"
   ]
  },
  {
   "cell_type": "code",
   "execution_count": 53,
   "metadata": {},
   "outputs": [
    {
     "data": {
      "text/plain": [
       "True"
      ]
     },
     "execution_count": 53,
     "metadata": {},
     "output_type": "execute_result"
    }
   ],
   "source": [
    "(0, 1, 200000,100000) < (0, 3, 4,2)"
   ]
  },
  {
   "cell_type": "code",
   "execution_count": null,
   "metadata": {},
   "outputs": [],
   "source": []
  },
  {
   "cell_type": "markdown",
   "metadata": {},
   "source": [
    "### Walk Through: Print sorted list based on word length"
   ]
  },
  {
   "cell_type": "markdown",
   "metadata": {},
   "source": [
    "text = 'hello c fine cpp' <br>\n",
    "Output (increasing order): <br>\n",
    "c <br>\n",
    "cpp <br>\n",
    "fine <br>\n",
    "hello <br>"
   ]
  },
  {
   "cell_type": "code",
   "execution_count": 84,
   "metadata": {},
   "outputs": [],
   "source": [
    "def sort_words(text):\n",
    "    \n",
    "    #split words\n",
    "    words = text.split()\n",
    "    t = list()\n",
    "    \n",
    "    # append words with their length, t contains set of tuples\n",
    "    for word in words:\n",
    "        t.append((len(word), word))\n",
    "    \n",
    "    # sort set of tuples in increasing order of length\n",
    "    #t.sort()\n",
    "    \n",
    "    # sort set of tuples in decreasing order\n",
    "    t.sort(reverse=False)\n",
    "    \n",
    "    res = list()\n",
    "    \n",
    "    # unpack it\n",
    "    for length, word in t:\n",
    "        res.append(word)\n",
    "    \n",
    "    print(res)"
   ]
  },
  {
   "cell_type": "code",
   "execution_count": 85,
   "metadata": {
    "scrolled": false
   },
   "outputs": [
    {
     "name": "stdout",
     "output_type": "stream",
     "text": [
      "['c', 'cpp', 'fine', 'hello']\n"
     ]
    }
   ],
   "source": [
    "text = 'hello c fine cpp'\n",
    "sort_words(text)"
   ]
  }
 ],
 "metadata": {
  "kernelspec": {
   "display_name": "Python 3",
   "language": "python",
   "name": "python3"
  },
  "language_info": {
   "codemirror_mode": {
    "name": "ipython",
    "version": 3
   },
   "file_extension": ".py",
   "mimetype": "text/x-python",
   "name": "python",
   "nbconvert_exporter": "python",
   "pygments_lexer": "ipython3",
   "version": "3.6.5"
  }
 },
 "nbformat": 4,
 "nbformat_minor": 2
}
