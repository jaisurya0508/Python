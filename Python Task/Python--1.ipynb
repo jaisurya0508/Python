{
 "cells": [
  {
   "cell_type": "markdown",
   "metadata": {},
   "source": [
    "# Exercise-6:\n"
   ]
  },
  {
   "cell_type": "markdown",
   "metadata": {},
   "source": [
    "#### 1. Write a python program to print the square of all numbers from 0 to 10\n"
   ]
  },
  {
   "cell_type": "code",
   "execution_count": 6,
   "metadata": {},
   "outputs": [
    {
     "name": "stdout",
     "output_type": "stream",
     "text": [
      "square of 0 is 0\n",
      "square of 1 is 1\n",
      "square of 2 is 4\n",
      "square of 3 is 9\n",
      "square of 4 is 16\n",
      "square of 5 is 25\n",
      "square of 6 is 36\n",
      "square of 7 is 49\n",
      "square of 8 is 64\n",
      "square of 9 is 81\n",
      "square of 10 is 100\n"
     ]
    }
   ],
   "source": [
    "for i in range(0,11):\n",
    "    print(f'square of {i} is {i**2}')"
   ]
  },
  {
   "cell_type": "markdown",
   "metadata": {},
   "source": [
    "#### 2.Write a python program to find the sum of all even numbers from 0 to 10"
   ]
  },
  {
   "cell_type": "code",
   "execution_count": 11,
   "metadata": {},
   "outputs": [
    {
     "name": "stdout",
     "output_type": "stream",
     "text": [
      "30\n"
     ]
    }
   ],
   "source": [
    "sum=0\n",
    "for i in range(0,11):\n",
    "    if i%2==0:\n",
    "        sum+=i\n",
    "print(sum)"
   ]
  },
  {
   "cell_type": "markdown",
   "metadata": {},
   "source": [
    "#### 3. Write a python program to read three numbers (a,b,c) and check how manynumbers between ‘a’ and ‘b’ are divisible by ‘c’"
   ]
  },
  {
   "cell_type": "code",
   "execution_count": 21,
   "metadata": {},
   "outputs": [
    {
     "name": "stdout",
     "output_type": "stream",
     "text": [
      "Enter three numbers: 4 6 2\n",
      "2.0\n",
      "3.0\n"
     ]
    }
   ],
   "source": [
    "a,b,c = map(int, input('Enter three numbers: ').split()) \n",
    "for i in range(a,b+1):\n",
    "    if(i%c==0):\n",
    "        print(i/c)"
   ]
  },
  {
   "cell_type": "markdown",
   "metadata": {},
   "source": [
    "#### 4.Write a python program to get the following output"
   ]
  },
  {
   "cell_type": "code",
   "execution_count": 29,
   "metadata": {
    "scrolled": true
   },
   "outputs": [
    {
     "name": "stdout",
     "output_type": "stream",
     "text": [
      "1----99\n",
      "2----98\n",
      "3----97\n",
      "4----96\n",
      "5----95\n",
      "6----94\n",
      "7----93\n",
      "8----92\n",
      "9----91\n",
      "10----90\n",
      "11----89\n",
      "12----88\n",
      "13----87\n",
      "14----86\n",
      "15----85\n",
      "16----84\n",
      "17----83\n",
      "18----82\n",
      "19----81\n",
      "20----80\n",
      "21----79\n",
      "22----78\n",
      "23----77\n",
      "24----76\n",
      "25----75\n",
      "26----74\n",
      "27----73\n",
      "28----72\n",
      "29----71\n",
      "30----70\n",
      "31----69\n",
      "32----68\n",
      "33----67\n",
      "34----66\n",
      "35----65\n",
      "36----64\n",
      "37----63\n",
      "38----62\n",
      "39----61\n",
      "40----60\n",
      "41----59\n",
      "42----58\n",
      "43----57\n",
      "44----56\n",
      "45----55\n",
      "46----54\n",
      "47----53\n",
      "48----52\n",
      "49----51\n",
      "50----50\n",
      "51----49\n",
      "52----48\n",
      "53----47\n",
      "54----46\n",
      "55----45\n",
      "56----44\n",
      "57----43\n",
      "58----42\n",
      "59----41\n",
      "60----40\n",
      "61----39\n",
      "62----38\n",
      "63----37\n",
      "64----36\n",
      "65----35\n",
      "66----34\n",
      "67----33\n",
      "68----32\n",
      "69----31\n",
      "70----30\n",
      "71----29\n",
      "72----28\n",
      "73----27\n",
      "74----26\n",
      "75----25\n",
      "76----24\n",
      "77----23\n",
      "78----22\n",
      "79----21\n",
      "80----20\n",
      "81----19\n",
      "82----18\n",
      "83----17\n",
      "84----16\n",
      "85----15\n",
      "86----14\n",
      "87----13\n",
      "88----12\n",
      "89----11\n",
      "90----10\n",
      "91----9\n",
      "92----8\n",
      "93----7\n",
      "94----6\n",
      "95----5\n",
      "96----4\n",
      "97----3\n",
      "98----2\n",
      "99----1\n"
     ]
    }
   ],
   "source": [
    "start=0\n",
    "st=0\n",
    "end=100\n",
    "for i in range(99):\n",
    "    st+=1\n",
    "    end-=1\n",
    "    start+=1\n",
    "    print (\"{}----{}\".format(st,end))\n"
   ]
  },
  {
   "cell_type": "markdown",
   "metadata": {},
   "source": [
    "#### 5. Create a loop that counts from 0 to 100"
   ]
  },
  {
   "cell_type": "code",
   "execution_count": 1,
   "metadata": {
    "scrolled": true
   },
   "outputs": [
    {
     "name": "stdout",
     "output_type": "stream",
     "text": [
      "0\n",
      "1\n",
      "2\n",
      "3\n",
      "4\n",
      "5\n",
      "6\n",
      "7\n",
      "8\n",
      "9\n",
      "10\n",
      "11\n",
      "12\n",
      "13\n",
      "14\n",
      "15\n",
      "16\n",
      "17\n",
      "18\n",
      "19\n",
      "20\n",
      "21\n",
      "22\n",
      "23\n",
      "24\n",
      "25\n",
      "26\n",
      "27\n",
      "28\n",
      "29\n",
      "30\n",
      "31\n",
      "32\n",
      "33\n",
      "34\n",
      "35\n",
      "36\n",
      "37\n",
      "38\n",
      "39\n",
      "40\n",
      "41\n",
      "42\n",
      "43\n",
      "44\n",
      "45\n",
      "46\n",
      "47\n",
      "48\n",
      "49\n",
      "50\n",
      "51\n",
      "52\n",
      "53\n",
      "54\n",
      "55\n",
      "56\n",
      "57\n",
      "58\n",
      "59\n",
      "60\n",
      "61\n",
      "62\n",
      "63\n",
      "64\n",
      "65\n",
      "66\n",
      "67\n",
      "68\n",
      "69\n",
      "70\n",
      "71\n",
      "72\n",
      "73\n",
      "74\n",
      "75\n",
      "76\n",
      "77\n",
      "78\n",
      "79\n",
      "80\n",
      "81\n",
      "82\n",
      "83\n",
      "84\n",
      "85\n",
      "86\n",
      "87\n",
      "88\n",
      "89\n",
      "90\n",
      "91\n",
      "92\n",
      "93\n",
      "94\n",
      "95\n",
      "96\n",
      "97\n",
      "98\n",
      "99\n",
      "100\n"
     ]
    }
   ],
   "source": [
    "number=0\n",
    "while number <= 100:\n",
    "    print(number)\n",
    "    number+=1"
   ]
  },
  {
   "cell_type": "markdown",
   "metadata": {},
   "source": [
    "#### 6. Create snippet to caliclulate square of each number from 0 to 100"
   ]
  },
  {
   "cell_type": "code",
   "execution_count": 32,
   "metadata": {
    "scrolled": true
   },
   "outputs": [
    {
     "name": "stdout",
     "output_type": "stream",
     "text": [
      " 0--0\n",
      " 1--1\n",
      " 2--4\n",
      " 3--9\n",
      " 4--16\n",
      " 5--25\n",
      " 6--36\n",
      " 7--49\n",
      " 8--64\n",
      " 9--81\n",
      " 10--100\n",
      " 11--121\n",
      " 12--144\n",
      " 13--169\n",
      " 14--196\n",
      " 15--225\n",
      " 16--256\n",
      " 17--289\n",
      " 18--324\n",
      " 19--361\n",
      " 20--400\n",
      " 21--441\n",
      " 22--484\n",
      " 23--529\n",
      " 24--576\n",
      " 25--625\n",
      " 26--676\n",
      " 27--729\n",
      " 28--784\n",
      " 29--841\n",
      " 30--900\n",
      " 31--961\n",
      " 32--1024\n",
      " 33--1089\n",
      " 34--1156\n",
      " 35--1225\n",
      " 36--1296\n",
      " 37--1369\n",
      " 38--1444\n",
      " 39--1521\n",
      " 40--1600\n",
      " 41--1681\n",
      " 42--1764\n",
      " 43--1849\n",
      " 44--1936\n",
      " 45--2025\n",
      " 46--2116\n",
      " 47--2209\n",
      " 48--2304\n",
      " 49--2401\n",
      " 50--2500\n",
      " 51--2601\n",
      " 52--2704\n",
      " 53--2809\n",
      " 54--2916\n",
      " 55--3025\n",
      " 56--3136\n",
      " 57--3249\n",
      " 58--3364\n",
      " 59--3481\n",
      " 60--3600\n",
      " 61--3721\n",
      " 62--3844\n",
      " 63--3969\n",
      " 64--4096\n",
      " 65--4225\n",
      " 66--4356\n",
      " 67--4489\n",
      " 68--4624\n",
      " 69--4761\n",
      " 70--4900\n",
      " 71--5041\n",
      " 72--5184\n",
      " 73--5329\n",
      " 74--5476\n",
      " 75--5625\n",
      " 76--5776\n",
      " 77--5929\n",
      " 78--6084\n",
      " 79--6241\n",
      " 80--6400\n",
      " 81--6561\n",
      " 82--6724\n",
      " 83--6889\n",
      " 84--7056\n",
      " 85--7225\n",
      " 86--7396\n",
      " 87--7569\n",
      " 88--7744\n",
      " 89--7921\n",
      " 90--8100\n",
      " 91--8281\n",
      " 92--8464\n",
      " 93--8649\n",
      " 94--8836\n",
      " 95--9025\n",
      " 96--9216\n",
      " 97--9409\n",
      " 98--9604\n",
      " 99--9801\n",
      " 100--10000\n"
     ]
    }
   ],
   "source": [
    "for i in range(101):\n",
    "    print(f' {i}--{i**2}')"
   ]
  },
  {
   "cell_type": "markdown",
   "metadata": {},
   "source": [
    "#### 7. What does range(1, 10, 2) return?"
   ]
  },
  {
   "cell_type": "code",
   "execution_count": 2,
   "metadata": {},
   "outputs": [
    {
     "name": "stdout",
     "output_type": "stream",
     "text": [
      "1\n",
      "3\n",
      "5\n",
      "7\n",
      "9\n"
     ]
    }
   ],
   "source": [
    "for i in range(1,10,2):\n",
    "    print(i)"
   ]
  },
  {
   "cell_type": "markdown",
   "metadata": {},
   "source": [
    "#### 8. Write a program, It should print all the numbers between 0 to limit with a label to identify the even and odd numbers. "
   ]
  },
  {
   "cell_type": "code",
   "execution_count": 4,
   "metadata": {},
   "outputs": [
    {
     "name": "stdout",
     "output_type": "stream",
     "text": [
      "enter ur limit3\n",
      "0 - EVEN\n",
      "1 - ODD\n",
      "2 - EVEN\n",
      "3 - ODD\n"
     ]
    }
   ],
   "source": [
    "start=0\n",
    "limit=int(input(\"enter ur limit\"))\n",
    "for i in range(start,limit+1):\n",
    "    if i%2==0:\n",
    "        print(f'{i} - EVEN')\n",
    "    else:\n",
    "        print(f'{i} - ODD')"
   ]
  },
  {
   "cell_type": "markdown",
   "metadata": {},
   "source": [
    "#### 9. Write a program to find the number divisible by 5 with in 1 to 100"
   ]
  },
  {
   "cell_type": "code",
   "execution_count": 41,
   "metadata": {
    "scrolled": true
   },
   "outputs": [
    {
     "name": "stdout",
     "output_type": "stream",
     "text": [
      "5\n",
      "10\n",
      "15\n",
      "20\n",
      "25\n",
      "30\n",
      "35\n",
      "40\n",
      "45\n",
      "50\n",
      "55\n",
      "60\n",
      "65\n",
      "70\n",
      "75\n",
      "80\n",
      "85\n",
      "90\n",
      "95\n",
      "100\n"
     ]
    }
   ],
   "source": [
    "for i in range(1,101):\n",
    "    if i%5==0:\n",
    "        print(i)\n"
   ]
  },
  {
   "cell_type": "markdown",
   "metadata": {},
   "source": [
    "#### 10. write a program that counts the number of elements within a list that are greater than 30.[1,4,62,78,32,23,90,24,2,34]."
   ]
  },
  {
   "cell_type": "code",
   "execution_count": 25,
   "metadata": {},
   "outputs": [
    {
     "name": "stdout",
     "output_type": "stream",
     "text": [
      "Greater than 30 [62, 78, 32, 90, 34]\n",
      "---------------\n",
      "Number of elements 5\n"
     ]
    }
   ],
   "source": [
    "new=[]\n",
    "li=[1,4,62,78,32,23,90,24,2,34]\n",
    "for i in li:\n",
    "    if (i>30):\n",
    "        new.append(i)\n",
    "print(\"Greater than 30\",new)\n",
    "print('---------------')\n",
    "print(\"Number of elements\",len(new))"
   ]
  },
  {
   "cell_type": "code",
   "execution_count": null,
   "metadata": {},
   "outputs": [],
   "source": []
  }
 ],
 "metadata": {
  "kernelspec": {
   "display_name": "Python 3",
   "language": "python",
   "name": "python3"
  },
  "language_info": {
   "codemirror_mode": {
    "name": "ipython",
    "version": 3
   },
   "file_extension": ".py",
   "mimetype": "text/x-python",
   "name": "python",
   "nbconvert_exporter": "python",
   "pygments_lexer": "ipython3",
   "version": "3.6.5"
  }
 },
 "nbformat": 4,
 "nbformat_minor": 2
}
