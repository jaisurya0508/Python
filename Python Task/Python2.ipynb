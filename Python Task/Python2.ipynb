{
 "cells": [
  {
   "cell_type": "markdown",
   "metadata": {},
   "source": [
    "## 1. Define script to print the below pattern.\n",
    "   \n",
    "\t*\n",
    "\t* *\n",
    "\t* * *\n",
    "\t* * * *"
   ]
  },
  {
   "cell_type": "code",
   "execution_count": 4,
   "metadata": {},
   "outputs": [
    {
     "name": "stdout",
     "output_type": "stream",
     "text": [
      "\n",
      "*\n",
      "**\n",
      "***\n",
      "****\n"
     ]
    }
   ],
   "source": [
    "for i in range(5):\n",
    "    print(i  *  '*')\n"
   ]
  },
  {
   "cell_type": "markdown",
   "metadata": {},
   "source": [
    "## 2. Define script to print the below pattern.\n",
    "\t* * * *\n",
    "\t* * *\n",
    "\t* *\n",
    "\t*"
   ]
  },
  {
   "cell_type": "code",
   "execution_count": 13,
   "metadata": {},
   "outputs": [
    {
     "name": "stdout",
     "output_type": "stream",
     "text": [
      "****\n",
      "***\n",
      "**\n",
      "*\n"
     ]
    }
   ],
   "source": [
    "rows = 4\n",
    "\n",
    "for i in range(rows, 0, -1):\n",
    "    print(i*'*')"
   ]
  },
  {
   "cell_type": "markdown",
   "metadata": {},
   "source": [
    "## 3. Define script to print the below pattern.\n",
    "\t\t1\n",
    "\t  2   3\n",
    "\t 4  5  6\n",
    "\t7  8  9  10"
   ]
  },
  {
   "cell_type": "code",
   "execution_count": null,
   "metadata": {},
   "outputs": [],
   "source": []
  },
  {
   "cell_type": "markdown",
   "metadata": {},
   "source": [
    "## 4. Define script to print the below pattern.\n",
    "\t1  \n",
    "\t2 2  \n",
    "\t3 3 3  \n",
    "\t4 4 4 4  \n",
    "\t5 5 5 5 5\n"
   ]
  },
  {
   "cell_type": "code",
   "execution_count": 67,
   "metadata": {},
   "outputs": [
    {
     "name": "stdout",
     "output_type": "stream",
     "text": [
      " \n",
      "1  \n",
      "2 2  \n",
      "3 3 3  \n",
      "4 4 4 4  \n",
      "5 5 5 5 5  \n"
     ]
    }
   ],
   "source": [
    "rows = 6\n",
    "for num in range(rows):\n",
    "    for i in range(num):\n",
    "        print(num, end=\" \")  \n",
    "    print(\" \")"
   ]
  },
  {
   "cell_type": "markdown",
   "metadata": {},
   "source": [
    "## 5. Inverted Pyramid pattern with numbers\n",
    "\t1 1 1 1 1 \n",
    "\t2 2 2 2 \n",
    "\t3 3 3 \n",
    "\t4 4 \n",
    "\t5"
   ]
  },
  {
   "cell_type": "code",
   "execution_count": 59,
   "metadata": {},
   "outputs": [
    {
     "name": "stdout",
     "output_type": "stream",
     "text": [
      "1 1 1 1 1 \r\n",
      "2 2 2 2 \r\n",
      "3 3 3 \r\n",
      "4 4 \r\n",
      "5 \r\n"
     ]
    }
   ],
   "source": [
    "rows = 5\n",
    "b = 0\n",
    "for i in range(rows, 0, -1):\n",
    "    b += 1\n",
    "    for j in range(1, i + 1):\n",
    "        print(b, end=' ')\n",
    "    print('\\r')"
   ]
  },
  {
   "cell_type": "markdown",
   "metadata": {},
   "source": [
    "## 6. Inverted Pyramid pattern with same number\n",
    "\t5 5 5 5 5 \n",
    "\t5 5 5 5 \n",
    "\t5 5 5 \n",
    "\t5 5 \n",
    "\t5"
   ]
  },
  {
   "cell_type": "code",
   "execution_count": 65,
   "metadata": {},
   "outputs": [
    {
     "name": "stdout",
     "output_type": "stream",
     "text": [
      "5 5 5 5 5 \r\n",
      "5 5 5 5 \r\n",
      "5 5 5 \r\n",
      "5 5 \r\n",
      "5 \r\n"
     ]
    }
   ],
   "source": [
    "rows = 5\n",
    "num = rows\n",
    "for i in range(rows, 0, -1):\n",
    "    for j in range(0, i):\n",
    "        print(num, end=' ')\n",
    "    print(\"\\r\")"
   ]
  },
  {
   "cell_type": "markdown",
   "metadata": {},
   "source": [
    "## Write a program to find given number is palindrome or not."
   ]
  },
  {
   "cell_type": "code",
   "execution_count": 71,
   "metadata": {},
   "outputs": [
    {
     "name": "stdout",
     "output_type": "stream",
     "text": [
      "Enter a number:121\n",
      "The number is palindrome!\n"
     ]
    }
   ],
   "source": [
    "num=int(input(\"Enter a number:\"))\n",
    "temp=num\n",
    "rev=0\n",
    "while(num>0):\n",
    "    dig=num%10\n",
    "    rev=rev*10+dig\n",
    "    num=num//10\n",
    "if(temp==rev):\n",
    "    print(\"The number is palindrome!\")\n",
    "else:\n",
    "    print(\"Not a palindrome!\")"
   ]
  },
  {
   "cell_type": "markdown",
   "metadata": {},
   "source": [
    "## Write a program to check whether given number is armstrong or not."
   ]
  },
  {
   "cell_type": "code",
   "execution_count": 73,
   "metadata": {},
   "outputs": [
    {
     "name": "stdout",
     "output_type": "stream",
     "text": [
      "enter number153\n",
      " This is a armstrong number\n"
     ]
    }
   ],
   "source": [
    "num=int(input(\"enter number\"))\n",
    "order=len(str(num))\n",
    "sum=0\n",
    "temp=num\n",
    "while temp>0:\n",
    "    digit=temp%10\n",
    "    sum+=digit**order\n",
    "    temp//=10\n",
    "if num==sum:\n",
    "    print(\" This is a armstrong number\")\n",
    "else:\n",
    "    print(\"This is not armstrong number\")\n"
   ]
  },
  {
   "cell_type": "markdown",
   "metadata": {},
   "source": [
    "## Write a program to check whether given number is perfect or not."
   ]
  },
  {
   "cell_type": "code",
   "execution_count": 88,
   "metadata": {},
   "outputs": [
    {
     "name": "stdout",
     "output_type": "stream",
     "text": [
      "True\n"
     ]
    }
   ],
   "source": [
    "def perfect_number(n):\n",
    "    sum=0\n",
    "    for i in range(1,n):\n",
    "        if n%i==0:\n",
    "            sum+=i\n",
    "    return sum==n\n",
    "print(perfect_number(6))\n",
    "            "
   ]
  },
  {
   "cell_type": "markdown",
   "metadata": {},
   "source": [
    "## Write a program to generate febnocii sequence till n."
   ]
  },
  {
   "cell_type": "code",
   "execution_count": 92,
   "metadata": {},
   "outputs": [],
   "source": [
    "def fibonacci(number):\n",
    "    if(number==0):\n",
    "        return 0\n",
    "    elif(number==1):\n",
    "        return 1\n",
    "    else:\n",
    "        return(fibonacci(number-2)+fibonacci(number-1))"
   ]
  },
  {
   "cell_type": "code",
   "execution_count": 93,
   "metadata": {},
   "outputs": [
    {
     "name": "stdout",
     "output_type": "stream",
     "text": [
      "enter number10\n",
      "0\n",
      "1\n",
      "1\n",
      "2\n",
      "3\n",
      "5\n",
      "8\n",
      "13\n",
      "21\n",
      "34\n"
     ]
    }
   ],
   "source": [
    "number=int(input(\"enter number\"))\n",
    "for num in range(0,number):\n",
    "    print(fibonacci(num))"
   ]
  },
  {
   "cell_type": "markdown",
   "metadata": {},
   "source": [
    "## Write a program to find the prime number from 1 to 100"
   ]
  },
  {
   "cell_type": "code",
   "execution_count": 99,
   "metadata": {},
   "outputs": [
    {
     "name": "stdout",
     "output_type": "stream",
     "text": [
      "Prime numbers between 1 and 100 are:\n",
      "2\n",
      "3\n",
      "5\n",
      "7\n",
      "11\n",
      "13\n",
      "17\n",
      "19\n",
      "23\n",
      "29\n",
      "31\n",
      "37\n",
      "41\n",
      "43\n",
      "47\n",
      "53\n",
      "59\n",
      "61\n",
      "67\n",
      "71\n",
      "73\n",
      "79\n",
      "83\n",
      "89\n",
      "97\n"
     ]
    }
   ],
   "source": [
    "\n",
    "start = 1\n",
    "end = 100\n",
    "\n",
    "print(\"Prime numbers between\", start, \"and\", end, \"are:\")\n",
    "\n",
    "for num in range(start, end + 1):\n",
    "   # all prime numbers are greater than 1\n",
    "   if num > 1:\n",
    "        for i in range(2, num):\n",
    "            if (num % i) == 0:\n",
    "                break\n",
    "        else:\n",
    "            print(num)"
   ]
  },
  {
   "cell_type": "markdown",
   "metadata": {},
   "source": [
    "## Write a program to revere the sequence of number [123,456,789,987,321]"
   ]
  },
  {
   "cell_type": "code",
   "execution_count": 109,
   "metadata": {},
   "outputs": [
    {
     "name": "stdout",
     "output_type": "stream",
     "text": [
      "3\n",
      "32\n",
      "321\n"
     ]
    }
   ],
   "source": [
    "a=123\n",
    "rev=0\n",
    "while(a>0):\n",
    "    rem=a%10\n",
    "    rev=(rev*10)+rem\n",
    "    a=a//10\n",
    "    print(rev)"
   ]
  },
  {
   "cell_type": "markdown",
   "metadata": {},
   "source": [
    "## Write a program to print the number properties from 1 to 100, like as\n",
    "    1 -- ODD, PRIME\n",
    "\t2 -- EVEN, PRIME\n",
    "\t3 -- ODD, PRIME\n",
    "\t4 -- EVEN, NOT PRIME\n",
    "\t5 -- ODD, PRIME"
   ]
  },
  {
   "cell_type": "code",
   "execution_count": 112,
   "metadata": {},
   "outputs": [
    {
     "name": "stdout",
     "output_type": "stream",
     "text": [
      "Prime numbers between 1 and 100 are:\n",
      "2 -- ODD PRIME \n",
      "3 -- ODD PRIME \n",
      "4 -- EVEN, NOT PRIME\n",
      "4 -- ODD PRIME \n",
      "5 -- ODD PRIME \n",
      "6 -- EVEN, NOT PRIME\n",
      "6 -- EVEN, NOT PRIME\n",
      "6 -- ODD PRIME \n",
      "7 -- ODD PRIME \n",
      "8 -- EVEN, NOT PRIME\n",
      "8 -- EVEN, NOT PRIME\n",
      "8 -- ODD PRIME \n",
      "9 -- EVEN, NOT PRIME\n",
      "9 -- ODD PRIME \n",
      "10 -- EVEN, NOT PRIME\n",
      "10 -- EVEN, NOT PRIME\n",
      "10 -- ODD PRIME \n",
      "11 -- ODD PRIME \n",
      "12 -- EVEN, NOT PRIME\n",
      "12 -- EVEN, NOT PRIME\n",
      "12 -- EVEN, NOT PRIME\n",
      "12 -- EVEN, NOT PRIME\n",
      "12 -- ODD PRIME \n",
      "13 -- ODD PRIME \n",
      "14 -- EVEN, NOT PRIME\n",
      "14 -- EVEN, NOT PRIME\n",
      "14 -- ODD PRIME \n",
      "15 -- EVEN, NOT PRIME\n",
      "15 -- EVEN, NOT PRIME\n",
      "15 -- ODD PRIME \n",
      "16 -- EVEN, NOT PRIME\n",
      "16 -- EVEN, NOT PRIME\n",
      "16 -- EVEN, NOT PRIME\n",
      "16 -- ODD PRIME \n",
      "17 -- ODD PRIME \n",
      "18 -- EVEN, NOT PRIME\n",
      "18 -- EVEN, NOT PRIME\n",
      "18 -- EVEN, NOT PRIME\n",
      "18 -- EVEN, NOT PRIME\n",
      "18 -- ODD PRIME \n",
      "19 -- ODD PRIME \n",
      "20 -- EVEN, NOT PRIME\n",
      "20 -- EVEN, NOT PRIME\n",
      "20 -- EVEN, NOT PRIME\n",
      "20 -- EVEN, NOT PRIME\n",
      "20 -- ODD PRIME \n",
      "21 -- EVEN, NOT PRIME\n",
      "21 -- EVEN, NOT PRIME\n",
      "21 -- ODD PRIME \n",
      "22 -- EVEN, NOT PRIME\n",
      "22 -- EVEN, NOT PRIME\n",
      "22 -- ODD PRIME \n",
      "23 -- ODD PRIME \n",
      "24 -- EVEN, NOT PRIME\n",
      "24 -- EVEN, NOT PRIME\n",
      "24 -- EVEN, NOT PRIME\n",
      "24 -- EVEN, NOT PRIME\n",
      "24 -- EVEN, NOT PRIME\n",
      "24 -- EVEN, NOT PRIME\n",
      "24 -- ODD PRIME \n",
      "25 -- EVEN, NOT PRIME\n",
      "25 -- ODD PRIME \n",
      "26 -- EVEN, NOT PRIME\n",
      "26 -- EVEN, NOT PRIME\n",
      "26 -- ODD PRIME \n",
      "27 -- EVEN, NOT PRIME\n",
      "27 -- EVEN, NOT PRIME\n",
      "27 -- ODD PRIME \n",
      "28 -- EVEN, NOT PRIME\n",
      "28 -- EVEN, NOT PRIME\n",
      "28 -- EVEN, NOT PRIME\n",
      "28 -- EVEN, NOT PRIME\n",
      "28 -- ODD PRIME \n",
      "29 -- ODD PRIME \n",
      "30 -- EVEN, NOT PRIME\n",
      "30 -- EVEN, NOT PRIME\n",
      "30 -- EVEN, NOT PRIME\n",
      "30 -- EVEN, NOT PRIME\n",
      "30 -- EVEN, NOT PRIME\n",
      "30 -- EVEN, NOT PRIME\n",
      "30 -- ODD PRIME \n",
      "31 -- ODD PRIME \n",
      "32 -- EVEN, NOT PRIME\n",
      "32 -- EVEN, NOT PRIME\n",
      "32 -- EVEN, NOT PRIME\n",
      "32 -- EVEN, NOT PRIME\n",
      "32 -- ODD PRIME \n",
      "33 -- EVEN, NOT PRIME\n",
      "33 -- EVEN, NOT PRIME\n",
      "33 -- ODD PRIME \n",
      "34 -- EVEN, NOT PRIME\n",
      "34 -- EVEN, NOT PRIME\n",
      "34 -- ODD PRIME \n",
      "35 -- EVEN, NOT PRIME\n",
      "35 -- EVEN, NOT PRIME\n",
      "35 -- ODD PRIME \n",
      "36 -- EVEN, NOT PRIME\n",
      "36 -- EVEN, NOT PRIME\n",
      "36 -- EVEN, NOT PRIME\n",
      "36 -- EVEN, NOT PRIME\n",
      "36 -- EVEN, NOT PRIME\n",
      "36 -- EVEN, NOT PRIME\n",
      "36 -- EVEN, NOT PRIME\n",
      "36 -- ODD PRIME \n",
      "37 -- ODD PRIME \n",
      "38 -- EVEN, NOT PRIME\n",
      "38 -- EVEN, NOT PRIME\n",
      "38 -- ODD PRIME \n",
      "39 -- EVEN, NOT PRIME\n",
      "39 -- EVEN, NOT PRIME\n",
      "39 -- ODD PRIME \n",
      "40 -- EVEN, NOT PRIME\n",
      "40 -- EVEN, NOT PRIME\n",
      "40 -- EVEN, NOT PRIME\n",
      "40 -- EVEN, NOT PRIME\n",
      "40 -- EVEN, NOT PRIME\n",
      "40 -- EVEN, NOT PRIME\n",
      "40 -- ODD PRIME \n",
      "41 -- ODD PRIME \n",
      "42 -- EVEN, NOT PRIME\n",
      "42 -- EVEN, NOT PRIME\n",
      "42 -- EVEN, NOT PRIME\n",
      "42 -- EVEN, NOT PRIME\n",
      "42 -- EVEN, NOT PRIME\n",
      "42 -- EVEN, NOT PRIME\n",
      "42 -- ODD PRIME \n",
      "43 -- ODD PRIME \n",
      "44 -- EVEN, NOT PRIME\n",
      "44 -- EVEN, NOT PRIME\n",
      "44 -- EVEN, NOT PRIME\n",
      "44 -- EVEN, NOT PRIME\n",
      "44 -- ODD PRIME \n",
      "45 -- EVEN, NOT PRIME\n",
      "45 -- EVEN, NOT PRIME\n",
      "45 -- EVEN, NOT PRIME\n",
      "45 -- EVEN, NOT PRIME\n",
      "45 -- ODD PRIME \n",
      "46 -- EVEN, NOT PRIME\n",
      "46 -- EVEN, NOT PRIME\n",
      "46 -- ODD PRIME \n",
      "47 -- ODD PRIME \n",
      "48 -- EVEN, NOT PRIME\n",
      "48 -- EVEN, NOT PRIME\n",
      "48 -- EVEN, NOT PRIME\n",
      "48 -- EVEN, NOT PRIME\n",
      "48 -- EVEN, NOT PRIME\n",
      "48 -- EVEN, NOT PRIME\n",
      "48 -- EVEN, NOT PRIME\n",
      "48 -- EVEN, NOT PRIME\n",
      "48 -- ODD PRIME \n",
      "49 -- EVEN, NOT PRIME\n",
      "49 -- ODD PRIME \n",
      "50 -- EVEN, NOT PRIME\n",
      "50 -- EVEN, NOT PRIME\n",
      "50 -- EVEN, NOT PRIME\n",
      "50 -- EVEN, NOT PRIME\n",
      "50 -- ODD PRIME \n",
      "51 -- EVEN, NOT PRIME\n",
      "51 -- EVEN, NOT PRIME\n",
      "51 -- ODD PRIME \n",
      "52 -- EVEN, NOT PRIME\n",
      "52 -- EVEN, NOT PRIME\n",
      "52 -- EVEN, NOT PRIME\n",
      "52 -- EVEN, NOT PRIME\n",
      "52 -- ODD PRIME \n",
      "53 -- ODD PRIME \n",
      "54 -- EVEN, NOT PRIME\n",
      "54 -- EVEN, NOT PRIME\n",
      "54 -- EVEN, NOT PRIME\n",
      "54 -- EVEN, NOT PRIME\n",
      "54 -- EVEN, NOT PRIME\n",
      "54 -- EVEN, NOT PRIME\n",
      "54 -- ODD PRIME \n",
      "55 -- EVEN, NOT PRIME\n",
      "55 -- EVEN, NOT PRIME\n",
      "55 -- ODD PRIME \n",
      "56 -- EVEN, NOT PRIME\n",
      "56 -- EVEN, NOT PRIME\n",
      "56 -- EVEN, NOT PRIME\n",
      "56 -- EVEN, NOT PRIME\n",
      "56 -- EVEN, NOT PRIME\n",
      "56 -- EVEN, NOT PRIME\n",
      "56 -- ODD PRIME \n",
      "57 -- EVEN, NOT PRIME\n",
      "57 -- EVEN, NOT PRIME\n",
      "57 -- ODD PRIME \n",
      "58 -- EVEN, NOT PRIME\n",
      "58 -- EVEN, NOT PRIME\n",
      "58 -- ODD PRIME \n",
      "59 -- ODD PRIME \n",
      "60 -- EVEN, NOT PRIME\n",
      "60 -- EVEN, NOT PRIME\n",
      "60 -- EVEN, NOT PRIME\n",
      "60 -- EVEN, NOT PRIME\n",
      "60 -- EVEN, NOT PRIME\n",
      "60 -- EVEN, NOT PRIME\n",
      "60 -- EVEN, NOT PRIME\n",
      "60 -- EVEN, NOT PRIME\n",
      "60 -- EVEN, NOT PRIME\n",
      "60 -- EVEN, NOT PRIME\n",
      "60 -- ODD PRIME \n",
      "61 -- ODD PRIME \n",
      "62 -- EVEN, NOT PRIME\n",
      "62 -- EVEN, NOT PRIME\n",
      "62 -- ODD PRIME \n",
      "63 -- EVEN, NOT PRIME\n",
      "63 -- EVEN, NOT PRIME\n",
      "63 -- EVEN, NOT PRIME\n",
      "63 -- EVEN, NOT PRIME\n",
      "63 -- ODD PRIME \n",
      "64 -- EVEN, NOT PRIME\n",
      "64 -- EVEN, NOT PRIME\n",
      "64 -- EVEN, NOT PRIME\n",
      "64 -- EVEN, NOT PRIME\n",
      "64 -- EVEN, NOT PRIME\n",
      "64 -- ODD PRIME \n",
      "65 -- EVEN, NOT PRIME\n",
      "65 -- EVEN, NOT PRIME\n",
      "65 -- ODD PRIME \n",
      "66 -- EVEN, NOT PRIME\n",
      "66 -- EVEN, NOT PRIME\n",
      "66 -- EVEN, NOT PRIME\n",
      "66 -- EVEN, NOT PRIME\n",
      "66 -- EVEN, NOT PRIME\n",
      "66 -- EVEN, NOT PRIME\n",
      "66 -- ODD PRIME \n",
      "67 -- ODD PRIME \n",
      "68 -- EVEN, NOT PRIME\n",
      "68 -- EVEN, NOT PRIME\n",
      "68 -- EVEN, NOT PRIME\n",
      "68 -- EVEN, NOT PRIME\n",
      "68 -- ODD PRIME \n",
      "69 -- EVEN, NOT PRIME\n",
      "69 -- EVEN, NOT PRIME\n",
      "69 -- ODD PRIME \n",
      "70 -- EVEN, NOT PRIME\n",
      "70 -- EVEN, NOT PRIME\n",
      "70 -- EVEN, NOT PRIME\n",
      "70 -- EVEN, NOT PRIME\n",
      "70 -- EVEN, NOT PRIME\n",
      "70 -- EVEN, NOT PRIME\n",
      "70 -- ODD PRIME \n",
      "71 -- ODD PRIME \n",
      "72 -- EVEN, NOT PRIME\n",
      "72 -- EVEN, NOT PRIME\n",
      "72 -- EVEN, NOT PRIME\n",
      "72 -- EVEN, NOT PRIME\n",
      "72 -- EVEN, NOT PRIME\n",
      "72 -- EVEN, NOT PRIME\n",
      "72 -- EVEN, NOT PRIME\n",
      "72 -- EVEN, NOT PRIME\n",
      "72 -- EVEN, NOT PRIME\n",
      "72 -- EVEN, NOT PRIME\n",
      "72 -- ODD PRIME \n",
      "73 -- ODD PRIME \n",
      "74 -- EVEN, NOT PRIME\n",
      "74 -- EVEN, NOT PRIME\n",
      "74 -- ODD PRIME \n",
      "75 -- EVEN, NOT PRIME\n",
      "75 -- EVEN, NOT PRIME\n",
      "75 -- EVEN, NOT PRIME\n",
      "75 -- EVEN, NOT PRIME\n",
      "75 -- ODD PRIME \n",
      "76 -- EVEN, NOT PRIME\n",
      "76 -- EVEN, NOT PRIME\n",
      "76 -- EVEN, NOT PRIME\n",
      "76 -- EVEN, NOT PRIME\n",
      "76 -- ODD PRIME \n",
      "77 -- EVEN, NOT PRIME\n",
      "77 -- EVEN, NOT PRIME\n",
      "77 -- ODD PRIME \n",
      "78 -- EVEN, NOT PRIME\n",
      "78 -- EVEN, NOT PRIME\n",
      "78 -- EVEN, NOT PRIME\n",
      "78 -- EVEN, NOT PRIME\n",
      "78 -- EVEN, NOT PRIME\n",
      "78 -- EVEN, NOT PRIME\n",
      "78 -- ODD PRIME \n",
      "79 -- ODD PRIME \n",
      "80 -- EVEN, NOT PRIME\n",
      "80 -- EVEN, NOT PRIME\n",
      "80 -- EVEN, NOT PRIME\n",
      "80 -- EVEN, NOT PRIME\n",
      "80 -- EVEN, NOT PRIME\n",
      "80 -- EVEN, NOT PRIME\n",
      "80 -- EVEN, NOT PRIME\n",
      "80 -- EVEN, NOT PRIME\n",
      "80 -- ODD PRIME \n",
      "81 -- EVEN, NOT PRIME\n",
      "81 -- EVEN, NOT PRIME\n",
      "81 -- EVEN, NOT PRIME\n",
      "81 -- ODD PRIME \n",
      "82 -- EVEN, NOT PRIME\n",
      "82 -- EVEN, NOT PRIME\n",
      "82 -- ODD PRIME \n",
      "83 -- ODD PRIME \n",
      "84 -- EVEN, NOT PRIME\n",
      "84 -- EVEN, NOT PRIME\n",
      "84 -- EVEN, NOT PRIME\n",
      "84 -- EVEN, NOT PRIME\n",
      "84 -- EVEN, NOT PRIME\n",
      "84 -- EVEN, NOT PRIME\n",
      "84 -- EVEN, NOT PRIME\n",
      "84 -- EVEN, NOT PRIME\n",
      "84 -- EVEN, NOT PRIME\n",
      "84 -- EVEN, NOT PRIME\n",
      "84 -- ODD PRIME \n",
      "85 -- EVEN, NOT PRIME\n",
      "85 -- EVEN, NOT PRIME\n",
      "85 -- ODD PRIME \n",
      "86 -- EVEN, NOT PRIME\n",
      "86 -- EVEN, NOT PRIME\n",
      "86 -- ODD PRIME \n",
      "87 -- EVEN, NOT PRIME\n",
      "87 -- EVEN, NOT PRIME\n",
      "87 -- ODD PRIME \n",
      "88 -- EVEN, NOT PRIME\n",
      "88 -- EVEN, NOT PRIME\n",
      "88 -- EVEN, NOT PRIME\n",
      "88 -- EVEN, NOT PRIME\n",
      "88 -- EVEN, NOT PRIME\n",
      "88 -- EVEN, NOT PRIME\n",
      "88 -- ODD PRIME \n",
      "89 -- ODD PRIME \n",
      "90 -- EVEN, NOT PRIME\n",
      "90 -- EVEN, NOT PRIME\n",
      "90 -- EVEN, NOT PRIME\n",
      "90 -- EVEN, NOT PRIME\n",
      "90 -- EVEN, NOT PRIME\n",
      "90 -- EVEN, NOT PRIME\n",
      "90 -- EVEN, NOT PRIME\n",
      "90 -- EVEN, NOT PRIME\n",
      "90 -- EVEN, NOT PRIME\n",
      "90 -- EVEN, NOT PRIME\n",
      "90 -- ODD PRIME \n",
      "91 -- EVEN, NOT PRIME\n",
      "91 -- EVEN, NOT PRIME\n",
      "91 -- ODD PRIME \n",
      "92 -- EVEN, NOT PRIME\n",
      "92 -- EVEN, NOT PRIME\n",
      "92 -- EVEN, NOT PRIME\n",
      "92 -- EVEN, NOT PRIME\n",
      "92 -- ODD PRIME \n",
      "93 -- EVEN, NOT PRIME\n",
      "93 -- EVEN, NOT PRIME\n",
      "93 -- ODD PRIME \n",
      "94 -- EVEN, NOT PRIME\n",
      "94 -- EVEN, NOT PRIME\n",
      "94 -- ODD PRIME \n",
      "95 -- EVEN, NOT PRIME\n",
      "95 -- EVEN, NOT PRIME\n",
      "95 -- ODD PRIME \n",
      "96 -- EVEN, NOT PRIME\n",
      "96 -- EVEN, NOT PRIME\n",
      "96 -- EVEN, NOT PRIME\n",
      "96 -- EVEN, NOT PRIME\n",
      "96 -- EVEN, NOT PRIME\n",
      "96 -- EVEN, NOT PRIME\n",
      "96 -- EVEN, NOT PRIME\n",
      "96 -- EVEN, NOT PRIME\n",
      "96 -- EVEN, NOT PRIME\n",
      "96 -- EVEN, NOT PRIME\n",
      "96 -- ODD PRIME \n",
      "97 -- ODD PRIME \n",
      "98 -- EVEN, NOT PRIME\n",
      "98 -- EVEN, NOT PRIME\n",
      "98 -- EVEN, NOT PRIME\n",
      "98 -- EVEN, NOT PRIME\n",
      "98 -- ODD PRIME \n",
      "99 -- EVEN, NOT PRIME\n",
      "99 -- EVEN, NOT PRIME\n",
      "99 -- EVEN, NOT PRIME\n",
      "99 -- EVEN, NOT PRIME\n",
      "99 -- ODD PRIME \n",
      "100 -- EVEN, NOT PRIME\n",
      "100 -- EVEN, NOT PRIME\n",
      "100 -- EVEN, NOT PRIME\n",
      "100 -- EVEN, NOT PRIME\n",
      "100 -- EVEN, NOT PRIME\n",
      "100 -- EVEN, NOT PRIME\n",
      "100 -- EVEN, NOT PRIME\n",
      "100 -- ODD PRIME \n"
     ]
    }
   ],
   "source": [
    "\n",
    "start = 1\n",
    "end = 100\n",
    "\n",
    "print(\"Prime numbers between\", start, \"and\", end, \"are:\")\n",
    "\n",
    "for num in range(start, end + 1):\n",
    "   # all prime numbers are greater than 1\n",
    "   if num > 1:\n",
    "        for i in range(2, num):\n",
    "            if (num % i) == 0:\n",
    "                print(num,'-- EVEN, NOT PRIME')\n",
    "        else:\n",
    "            print(num,'-- ODD PRIME ')"
   ]
  },
  {
   "cell_type": "code",
   "execution_count": null,
   "metadata": {},
   "outputs": [],
   "source": []
  }
 ],
 "metadata": {
  "kernelspec": {
   "display_name": "Python 3",
   "language": "python",
   "name": "python3"
  },
  "language_info": {
   "codemirror_mode": {
    "name": "ipython",
    "version": 3
   },
   "file_extension": ".py",
   "mimetype": "text/x-python",
   "name": "python",
   "nbconvert_exporter": "python",
   "pygments_lexer": "ipython3",
   "version": "3.6.5"
  }
 },
 "nbformat": 4,
 "nbformat_minor": 2
}
