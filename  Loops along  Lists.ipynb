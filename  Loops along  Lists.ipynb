{
 "cells": [
  {
   "cell_type": "markdown",
   "metadata": {},
   "source": [
    "# Loops and Lists"
   ]
  },
  {
   "cell_type": "markdown",
   "metadata": {},
   "source": [
    "## Simple Lists and for Loops"
   ]
  },
  {
   "cell_type": "code",
   "execution_count": 1,
   "metadata": {},
   "outputs": [
    {
     "name": "stdout",
     "output_type": "stream",
     "text": [
      "1\n",
      "2\n",
      "3\n",
      "4\n",
      "5\n"
     ]
    }
   ],
   "source": [
    "numbers = [1,2,3,4,5]\n",
    "for number in numbers:\n",
    "    print(number)"
   ]
  },
  {
   "cell_type": "code",
   "execution_count": 2,
   "metadata": {},
   "outputs": [
    {
     "name": "stdout",
     "output_type": "stream",
     "text": [
      "A fruit of type:  apple\n",
      "A fruit of type:  orange\n",
      "A fruit of type:  mango\n",
      "A fruit of type:  graphs\n"
     ]
    }
   ],
   "source": [
    "fruits = ['apple', 'orange', 'mango', 'graphs']\n",
    "for fruit in fruits:\n",
    "    print(\"A fruit of type: \", fruit)"
   ]
  },
  {
   "cell_type": "code",
   "execution_count": 3,
   "metadata": {},
   "outputs": [
    {
     "name": "stdout",
     "output_type": "stream",
     "text": [
      "i got 1\n",
      "i got pennies\n",
      "i got 2\n",
      "i got dimes\n",
      "i got 3\n",
      "i got quarters\n"
     ]
    }
   ],
   "source": [
    "# Mixed lists\n",
    "change = [1, 'pennies', 2, 'dimes', 3, 'quarters']\n",
    "for i in change:\n",
    "    \n",
    "    print(f\"i got {i}\")"
   ]
  },
  {
   "cell_type": "code",
   "execution_count": 5,
   "metadata": {},
   "outputs": [
    {
     "name": "stdout",
     "output_type": "stream",
     "text": [
      "3\n",
      "4\n",
      "5\n"
     ]
    }
   ],
   "source": [
    "# range() to generate numbers\n",
    "for number in range(3,6):\n",
    "    print(number)"
   ]
  },
  {
   "cell_type": "markdown",
   "metadata": {},
   "source": [
    "#### Note: range(start, end), range(start, end, steps)"
   ]
  },
  {
   "cell_type": "code",
   "execution_count": 5,
   "metadata": {},
   "outputs": [
    {
     "name": "stdout",
     "output_type": "stream",
     "text": [
      "1\n",
      "2\n",
      "3\n",
      "4\n",
      "5\n"
     ]
    }
   ],
   "source": [
    "for number in range(1, 6):\n",
    "    print(number)"
   ]
  },
  {
   "cell_type": "code",
   "execution_count": 9,
   "metadata": {},
   "outputs": [
    {
     "name": "stdout",
     "output_type": "stream",
     "text": [
      "1\n",
      "4\n",
      "7\n"
     ]
    }
   ],
   "source": [
    "for number in range(1, 10, 3):\n",
    "    print(number)"
   ]
  },
  {
   "cell_type": "markdown",
   "metadata": {},
   "source": [
    "### We can build lists"
   ]
  },
  {
   "cell_type": "code",
   "execution_count": 10,
   "metadata": {},
   "outputs": [
    {
     "name": "stdout",
     "output_type": "stream",
     "text": [
      "Element was  0\n",
      "Element was  1\n",
      "Element was  2\n",
      "Element was  3\n",
      "Element was  4\n"
     ]
    }
   ],
   "source": [
    "elements = [] #start with empty list\n",
    "\n",
    "for i in range(5):\n",
    "    elements.append(i)\n",
    "#print(elements)\n",
    "\n",
    "for element in elements:\n",
    "    print('Element was ', element)"
   ]
  },
  {
   "cell_type": "markdown",
   "metadata": {},
   "source": [
    "### Exercise: Find sum of the list of numbers 5, 6, 9, 2, 3"
   ]
  },
  {
   "cell_type": "code",
   "execution_count": 14,
   "metadata": {},
   "outputs": [
    {
     "name": "stdout",
     "output_type": "stream",
     "text": [
      "Sum:  25\n"
     ]
    }
   ],
   "source": [
    "numbers = [5, 6, 9, 2, 3]\n",
    "sum = 0\n",
    "for number in numbers:\n",
    "    sum += number\n",
    "print('Sum: ', sum)"
   ]
  },
  {
   "cell_type": "markdown",
   "metadata": {},
   "source": [
    "### Exercise: Modify the above code to read inputs and to find sum"
   ]
  },
  {
   "cell_type": "code",
   "execution_count": 1,
   "metadata": {},
   "outputs": [
    {
     "name": "stdout",
     "output_type": "stream",
     "text": [
      "How many numbers?: 4\n",
      "> 2\n",
      "> 3\n",
      "> 2\n",
      "> 1\n",
      "Sum:  8\n"
     ]
    }
   ],
   "source": [
    "max = int(input('How many numbers?: '))\n",
    "\n",
    "numbers = []\n",
    "\n",
    "for i in range(max):\n",
    "    numbers.append(int(input('> ')))\n",
    "\n",
    "sum = 0\n",
    "for number in numbers:\n",
    "    sum += number\n",
    "\n",
    "print('Sum: ', sum)"
   ]
  },
  {
   "cell_type": "code",
   "execution_count": 9,
   "metadata": {},
   "outputs": [
    {
     "name": "stdout",
     "output_type": "stream",
     "text": [
      "Enter how many no to get from user4\n",
      ">2\n",
      ">2\n",
      ">2\n",
      ">2\n",
      "The prod is 16\n"
     ]
    }
   ],
   "source": [
    "times=int(input(\"Enter how many no to get from user\"))\n",
    "num=[]\n",
    "for i in range(times):\n",
    "    num.append(int(input('>')))\n",
    "sum=1\n",
    "for number in num:\n",
    "    sum*=number\n",
    "print(f'The prod is {sum}')"
   ]
  },
  {
   "cell_type": "code",
   "execution_count": 28,
   "metadata": {},
   "outputs": [
    {
     "name": "stdout",
     "output_type": "stream",
     "text": [
      "How many numbers?: 3\n",
      "> 2\n",
      "> 3\n",
      "> 2\n",
      "these [2, 3, 2]\n",
      "5040\n",
      "12\n",
      "479001600\n",
      "420.0\n"
     ]
    }
   ],
   "source": [
    "import math\n",
    "max = int(input('How many numbers?: '))\n",
    "\n",
    "numbers = []\n",
    "\n",
    "for i in range(max):\n",
    "    numbers.append(int(input('> ')))\n",
    "print(\"these\",numbers)\n",
    "#a=math.factorial(numbers[0])\n",
    "#b=math.factorial(numbers[1])\n",
    "#c=math.factorial(numbers[2])\n",
    "\n",
    "#print(f\"factorial of a  {a}, factorial of b {b}, factorial of c {c}\")\n",
    "#prod=a*b*c\n",
    "#print(prod)\n",
    "sum = 0\n",
    "for number in numbers:\n",
    "    sum += number\n",
    "d=math.factorial(sum)\n",
    "print(d)\n",
    "#e=d/prod\n",
    "#print(e)\n",
    "sum=1\n",
    "for number in numbers:\n",
    "    sum *= number\n",
    "print(sum)\n",
    "print(math.factorial(sum))\n",
    "print(d/sum)\n",
    "\n"
   ]
  },
  {
   "cell_type": "markdown",
   "metadata": {},
   "source": [
    "### Printing only odd numbers"
   ]
  },
  {
   "cell_type": "code",
   "execution_count": 10,
   "metadata": {},
   "outputs": [
    {
     "name": "stdout",
     "output_type": "stream",
     "text": [
      "5\n",
      "7\n",
      "1\n",
      "12\n",
      "15\n",
      "9\n"
     ]
    }
   ],
   "source": [
    "numbers = [2, 5, 7, 1, 12, 15, 9]\n",
    "\n",
    "for number in numbers:\n",
    "    if number / 2 == 1:\n",
    "        continue\n",
    "    print(number)\n"
   ]
  },
  {
   "cell_type": "markdown",
   "metadata": {},
   "source": [
    "### Break the loop"
   ]
  },
  {
   "cell_type": "code",
   "execution_count": 20,
   "metadata": {},
   "outputs": [
    {
     "name": "stdout",
     "output_type": "stream",
     "text": [
      "0\n",
      "1\n",
      "2\n",
      "3\n",
      "4\n",
      "5\n",
      "6\n",
      "7\n",
      "8\n",
      "9\n",
      "10\n",
      "11\n",
      "12\n",
      "this is 13\n"
     ]
    }
   ],
   "source": [
    "for number in range(20):\n",
    "    if number == 13:\n",
    "        \n",
    "        print(\"this is 13\")\n",
    "        break\n",
    "    print(number)"
   ]
  },
  {
   "cell_type": "markdown",
   "metadata": {},
   "source": [
    "## While loop"
   ]
  },
  {
   "cell_type": "code",
   "execution_count": 21,
   "metadata": {},
   "outputs": [
    {
     "name": "stdout",
     "output_type": "stream",
     "text": [
      "Before while loop...\n",
      "Enter a string: jai\n",
      "You typed:  jai\n",
      "Finally after while loop...\n",
      "jai\n",
      "Enter a string: surya\n",
      "You typed:  surya\n",
      "Finally after while loop...\n",
      "surya\n",
      "Enter a string: amma\n",
      "You typed:  amma\n",
      "Finally after while loop...\n",
      "amma\n",
      "Enter a string: appa\n",
      "You typed:  appa\n",
      "Finally after while loop...\n",
      "appa\n",
      "Enter a string: appu\n",
      "You typed:  appu\n",
      "Finally after while loop...\n",
      "appu\n"
     ]
    }
   ],
   "source": [
    "# read and print 5 strings\n",
    "count = 1\n",
    "\n",
    "print('Before while loop...')\n",
    "while count <= 5:\n",
    "    text = input('Enter a string: ')\n",
    "    print('You typed: ', text)\n",
    "    count += 1\n",
    "    print('Finally after while loop...')\n",
    "    print(text)"
   ]
  },
  {
   "cell_type": "markdown",
   "metadata": {},
   "source": [
    "### Walk Through"
   ]
  },
  {
   "cell_type": "markdown",
   "metadata": {},
   "source": [
    "#### Read and print until 'done' is entered"
   ]
  },
  {
   "cell_type": "code",
   "execution_count": 41,
   "metadata": {},
   "outputs": [
    {
     "name": "stdout",
     "output_type": "stream",
     "text": [
      "Enter a string: hi\n",
      "You typed:  hi\n",
      "Enter a string: hello\n",
      "You typed:  hello\n",
      "Enter a string: jai\n",
      "You typed:  jai\n",
      "Enter a string: surya\n",
      "You typed:  surya\n",
      "Enter a string: done\n",
      "You typed:  done\n",
      "end of while loop\n"
     ]
    }
   ],
   "source": [
    "while True:\n",
    "    text = input('Enter a string: ')\n",
    "    print('You typed: ', text)\n",
    "    \n",
    "    if text == 'done':\n",
    "        break\n",
    "print('end of while loop')"
   ]
  },
  {
   "cell_type": "markdown",
   "metadata": {},
   "source": [
    "#### Find sum of numbers until zero is entered"
   ]
  },
  {
   "cell_type": "code",
   "execution_count": 37,
   "metadata": {},
   "outputs": [
    {
     "name": "stdout",
     "output_type": "stream",
     "text": [
      "Enter number:> 3\n",
      "Enter number:> 9\n",
      "Enter number:> 5\n",
      "Enter number:> 4\n",
      "Enter number:> 0\n",
      "Sum:  21\n"
     ]
    }
   ],
   "source": [
    "sum = 0\n",
    "\n",
    "while True:\n",
    "    \n",
    "    number = int(input('Enter number:> '))\n",
    "    if number == 0:\n",
    "        break\n",
    "    \n",
    "    sum += number;\n",
    "\n",
    "print('Sum: ', sum)"
   ]
  },
  {
   "cell_type": "markdown",
   "metadata": {},
   "source": [
    "## Exception Handling"
   ]
  },
  {
   "cell_type": "code",
   "execution_count": 38,
   "metadata": {},
   "outputs": [
    {
     "name": "stdout",
     "output_type": "stream",
     "text": [
      "Enter number:> 5\n",
      "Enter number:> 7\n",
      "Enter number:> *\n",
      "Not a number\n",
      "Enter number:> 8\n",
      "Enter number:> 9\n",
      "Enter number:> -\n",
      "Not a number\n",
      "Enter number:> 0\n",
      "Sum:  29\n"
     ]
    }
   ],
   "source": [
    "sum = 0\n",
    "\n",
    "while True:\n",
    "    \n",
    "    try:\n",
    "        number = int(input('Enter number:> '))\n",
    "        if number == 0:\n",
    "            break\n",
    "        sum += number\n",
    "    except:\n",
    "        print('Not a number')\n",
    "\n",
    "print('Sum: ', sum)"
   ]
  },
  {
   "cell_type": "markdown",
   "metadata": {},
   "source": [
    "#### Walk Through: Modify the above code to find biggest of numbers"
   ]
  },
  {
   "cell_type": "code",
   "execution_count": 24,
   "metadata": {},
   "outputs": [
    {
     "name": "stdout",
     "output_type": "stream",
     "text": [
      "Enter number (999 to exit):> 788\n",
      "Enter number (999 to exit):> 987\n",
      "Enter number (999 to exit):> 667\n",
      "Enter number (999 to exit):> 999\n",
      "Biggest number:  987\n",
      "Sum:  2442\n"
     ]
    }
   ],
   "source": [
    "sum = 0\n",
    "big=0\n",
    "\n",
    "while True:\n",
    "    \n",
    "    try:\n",
    "        number = int(input('Enter number (999 to exit):> '))\n",
    "        if number == 999:\n",
    "            break\n",
    "        \n",
    "        if number > big:\n",
    "            big = number\n",
    "        \n",
    "        sum += number\n",
    "    except:\n",
    "        print('Not a number')\n",
    "\n",
    "print('Biggest number: ', big)\n",
    "print('Sum: ', sum)"
   ]
  },
  {
   "cell_type": "markdown",
   "metadata": {},
   "source": [
    "## Nested Loops"
   ]
  },
  {
   "cell_type": "code",
   "execution_count": 25,
   "metadata": {},
   "outputs": [],
   "source": [
    "students = [\n",
    "(\"John\", [\"CompSci\", \"Physics\"]),\n",
    "(\"Vusi\", [\"Maths\", \"CompSci\", \"Stats\"]),\n",
    "(\"Jess\", [\"CompSci\", \"Accounting\", \"Economics\", \"Management\"]),\n",
    "(\"Sarah\", [\"InfSys\", \"Accounting\", \"Economics\", \"CommLaw\"]),\n",
    "(\"Zuki\", [\"Sociology\", \"Economics\", \"Law\", \"Stats\", \"Music\"])]"
   ]
  },
  {
   "cell_type": "code",
   "execution_count": 28,
   "metadata": {},
   "outputs": [
    {
     "name": "stdout",
     "output_type": "stream",
     "text": [
      "My self John, I takes2,namely['CompSci', 'Physics']\n",
      "My self Vusi, I takes3,namely['Maths', 'CompSci', 'Stats']\n",
      "My self Jess, I takes4,namely['CompSci', 'Accounting', 'Economics', 'Management']\n",
      "My self Sarah, I takes4,namely['InfSys', 'Accounting', 'Economics', 'CommLaw']\n",
      "My self Zuki, I takes5,namely['Sociology', 'Economics', 'Law', 'Stats', 'Music']\n"
     ]
    }
   ],
   "source": [
    "for name, subjects in students:\n",
    "    print(f'My self {name}, I takes{len(subjects)},namely{subjects}')"
   ]
  },
  {
   "cell_type": "code",
   "execution_count": 49,
   "metadata": {},
   "outputs": [
    {
     "name": "stdout",
     "output_type": "stream",
     "text": [
      "John takes 2 ['CompSci', 'Physics'] courses\n",
      "Vusi takes 3 ['Maths', 'CompSci', 'Stats'] courses\n",
      "Jess takes 4 ['CompSci', 'Accounting', 'Economics', 'Management'] courses\n",
      "Sarah takes 4 ['InfSys', 'Accounting', 'Economics', 'CommLaw'] courses\n",
      "Zuki takes 5 ['Sociology', 'Economics', 'Law', 'Stats', 'Music'] courses\n"
     ]
    }
   ],
   "source": [
    "# Print all students with a count of their courses.\n",
    "for name, subjects in students:\n",
    "    print(name, \"takes\", len(subjects), (subjects),\"courses\")"
   ]
  },
  {
   "cell_type": "code",
   "execution_count": 51,
   "metadata": {},
   "outputs": [
    {
     "name": "stdout",
     "output_type": "stream",
     "text": [
      "The number of students taking acc is 2\n"
     ]
    }
   ],
   "source": [
    "# Count how many students are taking \"CompSci\"\n",
    "counter = 0\n",
    "for name, subjects in students:\n",
    "    if \"Accounting\" in subjects:\n",
    "        counter += 1\n",
    "print(\"The number of students taking acc is\", counter)"
   ]
  },
  {
   "cell_type": "markdown",
   "metadata": {},
   "source": [
    "#### Walk Through: How many students are taking \"Economics\""
   ]
  },
  {
   "cell_type": "code",
   "execution_count": 29,
   "metadata": {},
   "outputs": [
    {
     "name": "stdout",
     "output_type": "stream",
     "text": [
      "The number of students taking economics is 3\n"
     ]
    }
   ],
   "source": [
    "# Count how many students are taking \"CompSci\"\n",
    "counter = 0\n",
    "for name, subjects in students:\n",
    "    if \"Economics\" in subjects:\n",
    "        counter += 1\n",
    "print(\"The number of students taking economics is\", counter)"
   ]
  },
  {
   "cell_type": "markdown",
   "metadata": {},
   "source": [
    "## Number Guessing Game"
   ]
  },
  {
   "cell_type": "markdown",
   "metadata": {},
   "source": [
    "#### Guess my number between 1 to 100"
   ]
  },
  {
   "cell_type": "code",
   "execution_count": 33,
   "metadata": {},
   "outputs": [
    {
     "name": "stdout",
     "output_type": "stream",
     "text": [
      "267\n",
      "enter ur guess 1-1000 0 is exist8000\n",
      "too high\n",
      "enter ur guess 1-1000 0 is exist267\n",
      "Great u guessed 2\n"
     ]
    }
   ],
   "source": [
    "import sys\n",
    "import random\n",
    "number=random.randint(1,1000)\n",
    "print(number)\n",
    "attempt =0\n",
    "while True:\n",
    "    a=int(input(\"enter ur guess 1-1000 0 is exist\"))\n",
    "    if a==0:\n",
    "        sys.exit(0)\n",
    "    attempt +=1\n",
    "    if a>number:\n",
    "        print(\"too high\")\n",
    "    elif a<number:\n",
    "        print(\"too low\")\n",
    "    \n",
    "    else:\n",
    "        break\n",
    "print(f\"Great u guessed {attempt}\")"
   ]
  },
  {
   "cell_type": "code",
   "execution_count": null,
   "metadata": {},
   "outputs": [],
   "source": []
  }
 ],
 "metadata": {
  "kernelspec": {
   "display_name": "Python 3",
   "language": "python",
   "name": "python3"
  },
  "language_info": {
   "codemirror_mode": {
    "name": "ipython",
    "version": 3
   },
   "file_extension": ".py",
   "mimetype": "text/x-python",
   "name": "python",
   "nbconvert_exporter": "python",
   "pygments_lexer": "ipython3",
   "version": "3.6.5"
  }
 },
 "nbformat": 4,
 "nbformat_minor": 2
}
